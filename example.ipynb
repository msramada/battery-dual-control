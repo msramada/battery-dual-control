{
 "cells": [
  {
   "cell_type": "code",
   "execution_count": 1,
   "metadata": {},
   "outputs": [],
   "source": [
    "using Revise\n",
    "using Plots, LinearAlgebra"
   ]
  },
  {
   "cell_type": "code",
   "execution_count": 2,
   "metadata": {},
   "outputs": [],
   "source": [
    "using ForwardDiff"
   ]
  },
  {
   "cell_type": "code",
   "execution_count": 10,
   "metadata": {},
   "outputs": [
    {
     "data": {
      "text/plain": [
       "f (generic function with 1 method)"
      ]
     },
     "metadata": {},
     "output_type": "display_data"
    }
   ],
   "source": [
    "function f(x)\n",
    "    return x[1]^2 + x[2]^2\n",
    "end"
   ]
  },
  {
   "cell_type": "code",
   "execution_count": 13,
   "metadata": {},
   "outputs": [
    {
     "data": {
      "text/plain": [
       "g (generic function with 1 method)"
      ]
     },
     "metadata": {},
     "output_type": "display_data"
    }
   ],
   "source": [
    "function g(y)\n",
    "    ForwardDiff.gradient(f, y)\n",
    "end"
   ]
  },
  {
   "cell_type": "code",
   "execution_count": 14,
   "metadata": {},
   "outputs": [
    {
     "data": {
      "text/plain": [
       "2-element Vector{Float64}:\n",
       " 2.0\n",
       " 4.0"
      ]
     },
     "metadata": {},
     "output_type": "display_data"
    }
   ],
   "source": [
    "g([1.0, 2.0])"
   ]
  },
  {
   "cell_type": "code",
   "execution_count": 15,
   "metadata": {},
   "outputs": [
    {
     "data": {
      "text/plain": [
       "h (generic function with 1 method)"
      ]
     },
     "metadata": {},
     "output_type": "display_data"
    }
   ],
   "source": [
    "function h(z)\n",
    "    ForwardDiff.jacobian(g, z)\n",
    "end"
   ]
  },
  {
   "cell_type": "code",
   "execution_count": 16,
   "metadata": {},
   "outputs": [
    {
     "data": {
      "text/plain": [
       "2×2 Matrix{Float64}:\n",
       " 2.0  0.0\n",
       " 0.0  2.0"
      ]
     },
     "metadata": {},
     "output_type": "display_data"
    }
   ],
   "source": [
    "h([1.0, 2.0])"
   ]
  },
  {
   "cell_type": "code",
   "execution_count": 16,
   "metadata": {},
   "outputs": [
    {
     "data": {
      "text/plain": [
       "2×2 Matrix{Float64}:\n",
       "  0.318626  -0.789885\n",
       " -0.574313   0.564495"
      ]
     },
     "metadata": {},
     "output_type": "display_data"
    }
   ],
   "source": [
    "aa = randn(2,2)\n",
    "bb = randn(2,2)"
   ]
  },
  {
   "cell_type": "markdown",
   "metadata": {},
   "source": [
    "### Define the system dynamics and observation models"
   ]
  },
  {
   "cell_type": "code",
   "execution_count": 2,
   "metadata": {},
   "outputs": [],
   "source": [
    "# calculate LQR cost:\n",
    "η = 1 # Efficiency\n",
    "Q_nom = 2.2 # Nominal capacity\n",
    "dt = 1.0 # Discretization time\n",
    "A = [1.0 0.0; 0.0 1.0]\n",
    "B = dt * η / Q_nom * [1.0 0; 0 1.0]\n",
    "\n",
    "function state_dynamics(SOC, I)\n",
    "    SOC = A * SOC .+ B * I\n",
    "    #SOC = clamp.(SOC, 0.0, 1.0)\n",
    "    return SOC\n",
    "end\n",
    "\n",
    "function measurement_dynamics(SOC)\n",
    "    # LTO\n",
    "    OCV_LTO = 2.5 + 0.3 * SOC[1] + 0.1 * tanh(8 * (SOC[1] - 0.5)) + 0.05 * sin(5 * π * SOC[1])   \n",
    "    # LCO\n",
    "    OCV_LCO = 3.7 + 0.5 * SOC[2] + 0.3 * sin(2 * π * SOC[2])\n",
    "    return [OCV_LTO; OCV_LCO]\n",
    "end\n",
    "\"\"\"\n",
    "function measurement_dynamics_jacobian(SOC)\n",
    "    d_OCV_LTO = [0.3 + 0.8 * sech(8 * (SOC[1] - 0.5))^2 + 0.25 * π * cos(5 * π * SOC[1]); 0.0]\n",
    "    d_OCV_LCO = [0.0; 0.5 + 0.6 * π * cos(2 * π * SOC[2])]\n",
    "    return hcat(d_OCV_LTO, d_OCV_LCO)\n",
    "end\n",
    "\"\"\"\n",
    "W = 0.1 * [1.0 0.0; 0.0 1.0]\n",
    "V = 0.1 * [1.0 0.0; 0.0 1.0];"
   ]
  },
  {
   "cell_type": "code",
   "execution_count": 3,
   "metadata": {},
   "outputs": [
    {
     "data": {
      "text/plain": [
       "update_predict (generic function with 1 method)"
      ]
     },
     "metadata": {},
     "output_type": "display_data"
    }
   ],
   "source": [
    "include(\"./src/eKF.jl\")"
   ]
  },
  {
   "cell_type": "markdown",
   "metadata": {},
   "source": [
    "### Visualize the observation models"
   ]
  },
  {
   "cell_type": "code",
   "execution_count": 4,
   "metadata": {},
   "outputs": [
    {
     "data": {
      "image/png": "[encoded data removed]",
      "image/svg+xml": [
       "<?xml version=\"1.0\" encoding=\"utf-8\"?>\n",
       "<svg xmlns=\"http://www.w3.org/2000/svg\" xmlns:xlink=\"http://www.w3.org/1999/xlink\" width=\"600\" height=\"400\" viewBox=\"0 0 2400 1600\">\n",
       "<defs>\n",
       "  <clipPath id=\"clip300\">\n",
       "    <rect x=\"0\" y=\"0\" width=\"2400\" height=\"1600\"/>\n",
       "  </clipPath>\n",
       "</defs>\n",
       "<path clip-path=\"url(#clip300)\" d=\"M0 1600 L2400 1600 L2400 8.88178e-14 L0 8.88178e-14  Z\" fill=\"#ffffff\" fill-rule=\"evenodd\" fill-opacity=\"1\"/>\n",
       "<defs>\n",
       "  <clipPath id=\"clip301\">\n",
       "    <rect x=\"480\" y=\"0\" width=\"1681\" height=\"1600\"/>\n",
       "  </clipPath>\n",
       "</defs>\n",
       "<path clip-path=\"url(#clip300)\" d=\"M156.922 1486.45 L2352.76 1486.45 L2352.76 47.2441 L156.922 47.2441  Z\" fill=\"#ffffff\" fill-rule=\"evenodd\" fill-opacity=\"1\"/>\n",
       "<defs>\n",
       "  <clipPath id=\"clip302\">\n",
       "    <rect x=\"156\" y=\"47\" width=\"2197\" height=\"1440\"/>\n",
       "  </clipPath>\n",
       "</defs>\n",
       "<polyline clip-path=\"url(#clip302)\" style=\"stroke:#000000; stroke-linecap:round; stroke-linejoin:round; stroke-width:2; stroke-opacity:0.1; fill:none\" points=\"219.069,1486.45 219.069,47.2441 \"/>\n",
       "<polyline clip-path=\"url(#clip302)\" style=\"stroke:#000000; stroke-linecap:round; stroke-linejoin:round; stroke-width:2; stroke-opacity:0.1; fill:none\" points=\"736.954,1486.45 736.954,47.2441 \"/>\n",
       "<polyline clip-path=\"url(#clip302)\" style=\"stroke:#000000; stroke-linecap:round; stroke-linejoin:round; stroke-width:2; stroke-opacity:0.1; fill:none\" points=\"1254.84,1486.45 1254.84,47.2441 \"/>\n",
       "<polyline clip-path=\"url(#clip302)\" style=\"stroke:#000000; stroke-linecap:round; stroke-linejoin:round; stroke-width:2; stroke-opacity:0.1; fill:none\" points=\"1772.72,1486.45 1772.72,47.2441 \"/>\n",
       "<polyline clip-path=\"url(#clip302)\" style=\"stroke:#000000; stroke-linecap:round; stroke-linejoin:round; stroke-width:2; stroke-opacity:0.1; fill:none\" points=\"2290.61,1486.45 2290.61,47.2441 \"/>\n",
       "<polyline clip-path=\"url(#clip302)\" style=\"stroke:#000000; stroke-linecap:round; stroke-linejoin:round; stroke-width:2; stroke-opacity:0.1; fill:none\" points=\"156.922,1370.33 2352.76,1370.33 \"/>\n",
       "<polyline clip-path=\"url(#clip302)\" style=\"stroke:#000000; stroke-linecap:round; stroke-linejoin:round; stroke-width:2; stroke-opacity:0.1; fill:none\" points=\"156.922,993.17 2352.76,993.17 \"/>\n",
       "<polyline clip-path=\"url(#clip302)\" style=\"stroke:#000000; stroke-linecap:round; stroke-linejoin:round; stroke-width:2; stroke-opacity:0.1; fill:none\" points=\"156.922,616.006 2352.76,616.006 \"/>\n",
       "<polyline clip-path=\"url(#clip302)\" style=\"stroke:#000000; stroke-linecap:round; stroke-linejoin:round; stroke-width:2; stroke-opacity:0.1; fill:none\" points=\"156.922,238.842 2352.76,238.842 \"/>\n",
       "<polyline clip-path=\"url(#clip300)\" style=\"stroke:#000000; stroke-linecap:round; stroke-linejoin:round; stroke-width:4; stroke-opacity:1; fill:none\" points=\"156.922,1486.45 2352.76,1486.45 \"/>\n",
       "<polyline clip-path=\"url(#clip300)\" style=\"stroke:#000000; stroke-linecap:round; stroke-linejoin:round; stroke-width:4; stroke-opacity:1; fill:none\" points=\"219.069,1486.45 219.069,1467.55 \"/>\n",
       "<polyline clip-path=\"url(#clip300)\" style=\"stroke:#000000; stroke-linecap:round; stroke-linejoin:round; stroke-width:4; stroke-opacity:1; fill:none\" points=\"736.954,1486.45 736.954,1467.55 \"/>\n",
       "<polyline clip-path=\"url(#clip300)\" style=\"stroke:#000000; stroke-linecap:round; stroke-linejoin:round; stroke-width:4; stroke-opacity:1; fill:none\" points=\"1254.84,1486.45 1254.84,1467.55 \"/>\n",
       "<polyline clip-path=\"url(#clip300)\" style=\"stroke:#000000; stroke-linecap:round; stroke-linejoin:round; stroke-width:4; stroke-opacity:1; fill:none\" points=\"1772.72,1486.45 1772.72,1467.55 \"/>\n",
       "<polyline clip-path=\"url(#clip300)\" style=\"stroke:#000000; stroke-linecap:round; stroke-linejoin:round; stroke-width:4; stroke-opacity:1; fill:none\" points=\"2290.61,1486.45 2290.61,1467.55 \"/>\n",
       "<path clip-path=\"url(#clip300)\" d=\"M181.372 1517.37 Q177.761 1517.37 175.932 1520.93 Q174.127 1524.47 174.127 1531.6 Q174.127 1538.71 175.932 1542.27 Q177.761 1545.82 181.372 1545.82 Q185.006 1545.82 186.812 1542.27 Q188.64 1538.71 188.64 1531.6 Q188.64 1524.47 186.812 1520.93 Q185.006 1517.37 181.372 1517.37 M181.372 1513.66 Q187.182 1513.66 190.238 1518.27 Q193.316 1522.85 193.316 1531.6 Q193.316 1540.33 190.238 1544.94 Q187.182 1549.52 181.372 1549.52 Q175.562 1549.52 172.483 1544.94 Q169.428 1540.33 169.428 1531.6 Q169.428 1522.85 172.483 1518.27 Q175.562 1513.66 181.372 1513.66 Z\" fill=\"#000000\" fill-rule=\"nonzero\" fill-opacity=\"1\" /><path clip-path=\"url(#clip300)\" d=\"M201.534 1542.97 L206.418 1542.97 L206.418 1548.85 L201.534 1548.85 L201.534 1542.97 Z\" fill=\"#000000\" fill-rule=\"nonzero\" fill-opacity=\"1\" /><path clip-path=\"url(#clip300)\" d=\"M226.603 1517.37 Q222.992 1517.37 221.163 1520.93 Q219.358 1524.47 219.358 1531.6 Q219.358 1538.71 221.163 1542.27 Q222.992 1545.82 226.603 1545.82 Q230.237 1545.82 232.043 1542.27 Q233.872 1538.71 233.872 1531.6 Q233.872 1524.47 232.043 1520.93 Q230.237 1517.37 226.603 1517.37 M226.603 1513.66 Q232.413 1513.66 235.469 1518.27 Q238.548 1522.85 238.548 1531.6 Q238.548 1540.33 235.469 1544.94 Q232.413 1549.52 226.603 1549.52 Q220.793 1549.52 217.714 1544.94 Q214.659 1540.33 214.659 1531.6 Q214.659 1522.85 217.714 1518.27 Q220.793 1513.66 226.603 1513.66 Z\" fill=\"#000000\" fill-rule=\"nonzero\" fill-opacity=\"1\" /><path clip-path=\"url(#clip300)\" d=\"M256.765 1517.37 Q253.154 1517.37 251.325 1520.93 Q249.52 1524.47 249.52 1531.6 Q249.52 1538.71 251.325 1542.27 Q253.154 1545.82 256.765 1545.82 Q260.399 1545.82 262.205 1542.27 Q264.034 1538.71 264.034 1531.6 Q264.034 1524.47 262.205 1520.93 Q260.399 1517.37 256.765 1517.37 M256.765 1513.66 Q262.575 1513.66 265.631 1518.27 Q268.709 1522.85 268.709 1531.6 Q268.709 1540.33 265.631 1544.94 Q262.575 1549.52 256.765 1549.52 Q250.955 1549.52 247.876 1544.94 Q244.821 1540.33 244.821 1531.6 Q244.821 1522.85 247.876 1518.27 Q250.955 1513.66 256.765 1513.66 Z\" fill=\"#000000\" fill-rule=\"nonzero\" fill-opacity=\"1\" /><path clip-path=\"url(#clip300)\" d=\"M699.755 1517.37 Q696.144 1517.37 694.315 1520.93 Q692.51 1524.47 692.51 1531.6 Q692.51 1538.71 694.315 1542.27 Q696.144 1545.82 699.755 1545.82 Q703.389 1545.82 705.195 1542.27 Q707.023 1538.71 707.023 1531.6 Q707.023 1524.47 705.195 1520.93 Q703.389 1517.37 699.755 1517.37 M699.755 1513.66 Q705.565 1513.66 708.621 1518.27 Q711.699 1522.85 711.699 1531.6 Q711.699 1540.33 708.621 1544.94 Q705.565 1549.52 699.755 1549.52 Q693.945 1549.52 690.866 1544.94 Q687.811 1540.33 687.811 1531.6 Q687.811 1522.85 690.866 1518.27 Q693.945 1513.66 699.755 1513.66 Z\" fill=\"#000000\" fill-rule=\"nonzero\" fill-opacity=\"1\" /><path clip-path=\"url(#clip300)\" d=\"M719.917 1542.97 L724.801 1542.97 L724.801 1548.85 L719.917 1548.85 L719.917 1542.97 Z\" fill=\"#000000\" fill-rule=\"nonzero\" fill-opacity=\"1\" /><path clip-path=\"url(#clip300)\" d=\"M739.014 1544.91 L755.333 1544.91 L755.333 1548.85 L733.389 1548.85 L733.389 1544.91 Q736.051 1542.16 740.634 1537.53 Q745.241 1532.88 746.421 1531.53 Q748.667 1529.01 749.546 1527.27 Q750.449 1525.51 750.449 1523.82 Q750.449 1521.07 748.505 1519.33 Q746.583 1517.6 743.482 1517.6 Q741.283 1517.6 738.829 1518.36 Q736.398 1519.13 733.621 1520.68 L733.621 1515.95 Q736.445 1514.82 738.898 1514.24 Q741.352 1513.66 743.389 1513.66 Q748.759 1513.66 751.954 1516.35 Q755.148 1519.03 755.148 1523.52 Q755.148 1525.65 754.338 1527.57 Q753.551 1529.47 751.444 1532.07 Q750.866 1532.74 747.764 1535.95 Q744.662 1539.15 739.014 1544.91 Z\" fill=\"#000000\" fill-rule=\"nonzero\" fill-opacity=\"1\" /><path clip-path=\"url(#clip300)\" d=\"M765.194 1514.29 L783.551 1514.29 L783.551 1518.22 L769.477 1518.22 L769.477 1526.7 Q770.495 1526.35 771.514 1526.19 Q772.532 1526 773.551 1526 Q779.338 1526 782.717 1529.17 Q786.097 1532.34 786.097 1537.76 Q786.097 1543.34 782.625 1546.44 Q779.153 1549.52 772.833 1549.52 Q770.657 1549.52 768.389 1549.15 Q766.143 1548.78 763.736 1548.04 L763.736 1543.34 Q765.819 1544.47 768.042 1545.03 Q770.264 1545.58 772.741 1545.58 Q776.745 1545.58 779.083 1543.48 Q781.421 1541.37 781.421 1537.76 Q781.421 1534.15 779.083 1532.04 Q776.745 1529.94 772.741 1529.94 Q770.866 1529.94 768.991 1530.35 Q767.139 1530.77 765.194 1531.65 L765.194 1514.29 Z\" fill=\"#000000\" fill-rule=\"nonzero\" fill-opacity=\"1\" /><path clip-path=\"url(#clip300)\" d=\"M1217.14 1517.37 Q1213.53 1517.37 1211.7 1520.93 Q1209.9 1524.47 1209.9 1531.6 Q1209.9 1538.71 1211.7 1542.27 Q1213.53 1545.82 1217.14 1545.82 Q1220.78 1545.82 1222.58 1542.27 Q1224.41 1538.71 1224.41 1531.6 Q1224.41 1524.47 1222.58 1520.93 Q1220.78 1517.37 1217.14 1517.37 M1217.14 1513.66 Q1222.95 1513.66 1226.01 1518.27 Q1229.09 1522.85 1229.09 1531.6 Q1229.09 1540.33 1226.01 1544.94 Q1222.95 1549.52 1217.14 1549.52 Q1211.33 1549.52 1208.25 1544.94 Q1205.2 1540.33 1205.2 1531.6 Q1205.2 1522.85 1208.25 1518.27 Q1211.33 1513.66 1217.14 1513.66 Z\" fill=\"#000000\" fill-rule=\"nonzero\" fill-opacity=\"1\" /><path clip-path=\"url(#clip300)\" d=\"M1237.3 1542.97 L1242.19 1542.97 L1242.19 1548.85 L1237.3 1548.85 L1237.3 1542.97 Z\" fill=\"#000000\" fill-rule=\"nonzero\" fill-opacity=\"1\" /><path clip-path=\"url(#clip300)\" d=\"M1252.42 1514.29 L1270.78 1514.29 L1270.78 1518.22 L1256.7 1518.22 L1256.7 1526.7 Q1257.72 1526.35 1258.74 1526.19 Q1259.76 1526 1260.78 1526 Q1266.56 1526 1269.94 1529.17 Q1273.32 1532.34 1273.32 1537.76 Q1273.32 1543.34 1269.85 1546.44 Q1266.38 1549.52 1260.06 1549.52 Q1257.88 1549.52 1255.61 1549.15 Q1253.37 1548.78 1250.96 1548.04 L1250.96 1543.34 Q1253.05 1544.47 1255.27 1545.03 Q1257.49 1545.58 1259.97 1545.58 Q1263.97 1545.58 1266.31 1543.48 Q1268.65 1541.37 1268.65 1537.76 Q1268.65 1534.15 1266.31 1532.04 Q1263.97 1529.94 1259.97 1529.94 Q1258.09 1529.94 1256.22 1530.35 Q1254.36 1530.77 1252.42 1531.65 L1252.42 1514.29 Z\" fill=\"#000000\" fill-rule=\"nonzero\" fill-opacity=\"1\" /><path clip-path=\"url(#clip300)\" d=\"M1292.54 1517.37 Q1288.92 1517.37 1287.1 1520.93 Q1285.29 1524.47 1285.29 1531.6 Q1285.29 1538.71 1287.1 1542.27 Q1288.92 1545.82 1292.54 1545.82 Q1296.17 1545.82 1297.98 1542.27 Q1299.8 1538.71 1299.8 1531.6 Q1299.8 1524.47 1297.98 1520.93 Q1296.17 1517.37 1292.54 1517.37 M1292.54 1513.66 Q1298.35 1513.66 1301.4 1518.27 Q1304.48 1522.85 1304.48 1531.6 Q1304.48 1540.33 1301.4 1544.94 Q1298.35 1549.52 1292.54 1549.52 Q1286.73 1549.52 1283.65 1544.94 Q1280.59 1540.33 1280.59 1531.6 Q1280.59 1522.85 1283.65 1518.27 Q1286.73 1513.66 1292.54 1513.66 Z\" fill=\"#000000\" fill-rule=\"nonzero\" fill-opacity=\"1\" /><path clip-path=\"url(#clip300)\" d=\"M1735.53 1517.37 Q1731.91 1517.37 1730.09 1520.93 Q1728.28 1524.47 1728.28 1531.6 Q1728.28 1538.71 1730.09 1542.27 Q1731.91 1545.82 1735.53 1545.82 Q1739.16 1545.82 1740.97 1542.27 Q1742.79 1538.71 1742.79 1531.6 Q1742.79 1524.47 1740.97 1520.93 Q1739.16 1517.37 1735.53 1517.37 M1735.53 1513.66 Q1741.34 1513.66 1744.39 1518.27 Q1747.47 1522.85 1747.47 1531.6 Q1747.47 1540.33 1744.39 1544.94 Q1741.34 1549.52 1735.53 1549.52 Q1729.72 1549.52 1726.64 1544.94 Q1723.58 1540.33 1723.58 1531.6 Q1723.58 1522.85 1726.64 1518.27 Q1729.72 1513.66 1735.53 1513.66 Z\" fill=\"#000000\" fill-rule=\"nonzero\" fill-opacity=\"1\" /><path clip-path=\"url(#clip300)\" d=\"M1755.69 1542.97 L1760.57 1542.97 L1760.57 1548.85 L1755.69 1548.85 L1755.69 1542.97 Z\" fill=\"#000000\" fill-rule=\"nonzero\" fill-opacity=\"1\" /><path clip-path=\"url(#clip300)\" d=\"M1769.58 1514.29 L1791.8 1514.29 L1791.8 1516.28 L1779.25 1548.85 L1774.37 1548.85 L1786.17 1518.22 L1769.58 1518.22 L1769.58 1514.29 Z\" fill=\"#000000\" fill-rule=\"nonzero\" fill-opacity=\"1\" /><path clip-path=\"url(#clip300)\" d=\"M1800.96 1514.29 L1819.32 1514.29 L1819.32 1518.22 L1805.25 1518.22 L1805.25 1526.7 Q1806.27 1526.35 1807.28 1526.19 Q1808.3 1526 1809.32 1526 Q1815.11 1526 1818.49 1529.17 Q1821.87 1532.34 1821.87 1537.76 Q1821.87 1543.34 1818.4 1546.44 Q1814.92 1549.52 1808.6 1549.52 Q1806.43 1549.52 1804.16 1549.15 Q1801.91 1548.78 1799.51 1548.04 L1799.51 1543.34 Q1801.59 1544.47 1803.81 1545.03 Q1806.03 1545.58 1808.51 1545.58 Q1812.52 1545.58 1814.85 1543.48 Q1817.19 1541.37 1817.19 1537.76 Q1817.19 1534.15 1814.85 1532.04 Q1812.52 1529.94 1808.51 1529.94 Q1806.64 1529.94 1804.76 1530.35 Q1802.91 1530.77 1800.96 1531.65 L1800.96 1514.29 Z\" fill=\"#000000\" fill-rule=\"nonzero\" fill-opacity=\"1\" /><path clip-path=\"url(#clip300)\" d=\"M2242.68 1544.91 L2250.32 1544.91 L2250.32 1518.55 L2242.01 1520.21 L2242.01 1515.95 L2250.27 1514.29 L2254.95 1514.29 L2254.95 1544.91 L2262.59 1544.91 L2262.59 1548.85 L2242.68 1548.85 L2242.68 1544.91 Z\" fill=\"#000000\" fill-rule=\"nonzero\" fill-opacity=\"1\" /><path clip-path=\"url(#clip300)\" d=\"M2272.03 1542.97 L2276.92 1542.97 L2276.92 1548.85 L2272.03 1548.85 L2272.03 1542.97 Z\" fill=\"#000000\" fill-rule=\"nonzero\" fill-opacity=\"1\" /><path clip-path=\"url(#clip300)\" d=\"M2297.1 1517.37 Q2293.49 1517.37 2291.66 1520.93 Q2289.86 1524.47 2289.86 1531.6 Q2289.86 1538.71 2291.66 1542.27 Q2293.49 1545.82 2297.1 1545.82 Q2300.74 1545.82 2302.54 1542.27 Q2304.37 1538.71 2304.37 1531.6 Q2304.37 1524.47 2302.54 1520.93 Q2300.74 1517.37 2297.1 1517.37 M2297.1 1513.66 Q2302.91 1513.66 2305.97 1518.27 Q2309.05 1522.85 2309.05 1531.6 Q2309.05 1540.33 2305.97 1544.94 Q2302.91 1549.52 2297.1 1549.52 Q2291.29 1549.52 2288.21 1544.94 Q2285.16 1540.33 2285.16 1531.6 Q2285.16 1522.85 2288.21 1518.27 Q2291.29 1513.66 2297.1 1513.66 Z\" fill=\"#000000\" fill-rule=\"nonzero\" fill-opacity=\"1\" /><path clip-path=\"url(#clip300)\" d=\"M2327.26 1517.37 Q2323.65 1517.37 2321.82 1520.93 Q2320.02 1524.47 2320.02 1531.6 Q2320.02 1538.71 2321.82 1542.27 Q2323.65 1545.82 2327.26 1545.82 Q2330.9 1545.82 2332.7 1542.27 Q2334.53 1538.71 2334.53 1531.6 Q2334.53 1524.47 2332.7 1520.93 Q2330.9 1517.37 2327.26 1517.37 M2327.26 1513.66 Q2333.07 1513.66 2336.13 1518.27 Q2339.21 1522.85 2339.21 1531.6 Q2339.21 1540.33 2336.13 1544.94 Q2333.07 1549.52 2327.26 1549.52 Q2321.45 1549.52 2318.38 1544.94 Q2315.32 1540.33 2315.32 1531.6 Q2315.32 1522.85 2318.38 1518.27 Q2321.45 1513.66 2327.26 1513.66 Z\" fill=\"#000000\" fill-rule=\"nonzero\" fill-opacity=\"1\" /><polyline clip-path=\"url(#clip300)\" style=\"stroke:#000000; stroke-linecap:round; stroke-linejoin:round; stroke-width:4; stroke-opacity:1; fill:none\" points=\"156.922,1486.45 156.922,47.2441 \"/>\n",
       "<polyline clip-path=\"url(#clip300)\" style=\"stroke:#000000; stroke-linecap:round; stroke-linejoin:round; stroke-width:4; stroke-opacity:1; fill:none\" points=\"156.922,1370.33 175.82,1370.33 \"/>\n",
       "<polyline clip-path=\"url(#clip300)\" style=\"stroke:#000000; stroke-linecap:round; stroke-linejoin:round; stroke-width:4; stroke-opacity:1; fill:none\" points=\"156.922,993.17 175.82,993.17 \"/>\n",
       "<polyline clip-path=\"url(#clip300)\" style=\"stroke:#000000; stroke-linecap:round; stroke-linejoin:round; stroke-width:4; stroke-opacity:1; fill:none\" points=\"156.922,616.006 175.82,616.006 \"/>\n",
       "<polyline clip-path=\"url(#clip300)\" style=\"stroke:#000000; stroke-linecap:round; stroke-linejoin:round; stroke-width:4; stroke-opacity:1; fill:none\" points=\"156.922,238.842 175.82,238.842 \"/>\n",
       "<path clip-path=\"url(#clip300)\" d=\"M58.7699 1383.68 L75.0892 1383.68 L75.0892 1387.61 L53.1449 1387.61 L53.1449 1383.68 Q55.8069 1380.92 60.3902 1376.29 Q64.9967 1371.64 66.1772 1370.3 Q68.4226 1367.78 69.3022 1366.04 Q70.205 1364.28 70.205 1362.59 Q70.205 1359.84 68.2606 1358.1 Q66.3393 1356.36 63.2374 1356.36 Q61.0384 1356.36 58.5847 1357.13 Q56.1541 1357.89 53.3764 1359.44 L53.3764 1354.72 Q56.2004 1353.59 58.6541 1353.01 Q61.1078 1352.43 63.1448 1352.43 Q68.5152 1352.43 71.7096 1355.11 Q74.904 1357.8 74.904 1362.29 Q74.904 1364.42 74.0939 1366.34 Q73.3068 1368.24 71.2004 1370.83 Q70.6217 1371.5 67.5198 1374.72 Q64.418 1377.91 58.7699 1383.68 Z\" fill=\"#000000\" fill-rule=\"nonzero\" fill-opacity=\"1\" /><path clip-path=\"url(#clip300)\" d=\"M84.904 1381.73 L89.7882 1381.73 L89.7882 1387.61 L84.904 1387.61 L84.904 1381.73 Z\" fill=\"#000000\" fill-rule=\"nonzero\" fill-opacity=\"1\" /><path clip-path=\"url(#clip300)\" d=\"M100.02 1353.05 L118.376 1353.05 L118.376 1356.99 L104.302 1356.99 L104.302 1365.46 Q105.321 1365.11 106.339 1364.95 Q107.358 1364.77 108.376 1364.77 Q114.163 1364.77 117.543 1367.94 Q120.922 1371.11 120.922 1376.53 Q120.922 1382.1 117.45 1385.21 Q113.978 1388.28 107.658 1388.28 Q105.483 1388.28 103.214 1387.91 Q100.969 1387.54 98.5613 1386.8 L98.5613 1382.1 Q100.645 1383.24 102.867 1383.79 Q105.089 1384.35 107.566 1384.35 Q111.571 1384.35 113.908 1382.24 Q116.246 1380.14 116.246 1376.53 Q116.246 1372.91 113.908 1370.81 Q111.571 1368.7 107.566 1368.7 Q105.691 1368.7 103.816 1369.12 Q101.964 1369.53 100.02 1370.41 L100.02 1353.05 Z\" fill=\"#000000\" fill-rule=\"nonzero\" fill-opacity=\"1\" /><path clip-path=\"url(#clip300)\" d=\"M67.9133 991.815 Q71.2698 992.533 73.1448 994.802 Q75.0429 997.07 75.0429 1000.4 Q75.0429 1005.52 71.5244 1008.32 Q68.0059 1011.12 61.5245 1011.12 Q59.3486 1011.12 57.0338 1010.68 Q54.7421 1010.26 52.2884 1009.41 L52.2884 1004.89 Q54.2328 1006.03 56.5477 1006.61 Q58.8625 1007.19 61.3856 1007.19 Q65.7837 1007.19 68.0754 1005.45 Q70.3902 1003.71 70.3902 1000.4 Q70.3902 997.348 68.2374 995.635 Q66.1078 993.899 62.2884 993.899 L58.2606 993.899 L58.2606 990.056 L62.4735 990.056 Q65.9226 990.056 67.7513 988.69 Q69.58 987.302 69.58 984.709 Q69.58 982.047 67.6819 980.635 Q65.8069 979.2 62.2884 979.2 Q60.3671 979.2 58.168 979.616 Q55.969 980.033 53.3301 980.913 L53.3301 976.746 Q55.9921 976.005 58.3069 975.635 Q60.6449 975.265 62.705 975.265 Q68.0291 975.265 71.1309 977.695 Q74.2327 980.103 74.2327 984.223 Q74.2327 987.093 72.5892 989.084 Q70.9457 991.052 67.9133 991.815 Z\" fill=\"#000000\" fill-rule=\"nonzero\" fill-opacity=\"1\" /><path clip-path=\"url(#clip300)\" d=\"M83.9086 1004.57 L88.7928 1004.57 L88.7928 1010.45 L83.9086 1010.45 L83.9086 1004.57 Z\" fill=\"#000000\" fill-rule=\"nonzero\" fill-opacity=\"1\" /><path clip-path=\"url(#clip300)\" d=\"M108.978 978.968 Q105.367 978.968 103.538 982.533 Q101.733 986.075 101.733 993.204 Q101.733 1000.31 103.538 1003.88 Q105.367 1007.42 108.978 1007.42 Q112.612 1007.42 114.418 1003.88 Q116.246 1000.31 116.246 993.204 Q116.246 986.075 114.418 982.533 Q112.612 978.968 108.978 978.968 M108.978 975.265 Q114.788 975.265 117.844 979.871 Q120.922 984.454 120.922 993.204 Q120.922 1001.93 117.844 1006.54 Q114.788 1011.12 108.978 1011.12 Q103.168 1011.12 100.089 1006.54 Q97.0335 1001.93 97.0335 993.204 Q97.0335 984.454 100.089 979.871 Q103.168 975.265 108.978 975.265 Z\" fill=\"#000000\" fill-rule=\"nonzero\" fill-opacity=\"1\" /><path clip-path=\"url(#clip300)\" d=\"M68.9087 614.652 Q72.2652 615.369 74.1402 617.638 Q76.0383 619.906 76.0383 623.239 Q76.0383 628.355 72.5198 631.156 Q69.0013 633.957 62.5198 633.957 Q60.3439 633.957 58.0291 633.517 Q55.7375 633.101 53.2838 632.244 L53.2838 627.73 Q55.2282 628.864 57.543 629.443 Q59.8578 630.022 62.381 630.022 Q66.7791 630.022 69.0707 628.286 Q71.3855 626.55 71.3855 623.239 Q71.3855 620.184 69.2328 618.471 Q67.1032 616.735 63.2837 616.735 L59.256 616.735 L59.256 612.892 L63.4689 612.892 Q66.918 612.892 68.7467 611.527 Q70.5754 610.138 70.5754 607.545 Q70.5754 604.883 68.6772 603.471 Q66.8022 602.036 63.2837 602.036 Q61.3624 602.036 59.1634 602.453 Q56.9643 602.869 54.3254 603.749 L54.3254 599.582 Q56.9875 598.841 59.3023 598.471 Q61.6402 598.101 63.7004 598.101 Q69.0244 598.101 72.1263 600.531 Q75.2281 602.939 75.2281 607.059 Q75.2281 609.929 73.5846 611.92 Q71.9411 613.888 68.9087 614.652 Z\" fill=\"#000000\" fill-rule=\"nonzero\" fill-opacity=\"1\" /><path clip-path=\"url(#clip300)\" d=\"M84.904 627.406 L89.7882 627.406 L89.7882 633.286 L84.904 633.286 L84.904 627.406 Z\" fill=\"#000000\" fill-rule=\"nonzero\" fill-opacity=\"1\" /><path clip-path=\"url(#clip300)\" d=\"M100.02 598.726 L118.376 598.726 L118.376 602.661 L104.302 602.661 L104.302 611.133 Q105.321 610.786 106.339 610.624 Q107.358 610.439 108.376 610.439 Q114.163 610.439 117.543 613.61 Q120.922 616.781 120.922 622.198 Q120.922 627.776 117.45 630.878 Q113.978 633.957 107.658 633.957 Q105.483 633.957 103.214 633.587 Q100.969 633.216 98.5613 632.476 L98.5613 627.776 Q100.645 628.911 102.867 629.466 Q105.089 630.022 107.566 630.022 Q111.571 630.022 113.908 627.915 Q116.246 625.809 116.246 622.198 Q116.246 618.587 113.908 616.48 Q111.571 614.374 107.566 614.374 Q105.691 614.374 103.816 614.79 Q101.964 615.207 100.02 616.087 L100.02 598.726 Z\" fill=\"#000000\" fill-rule=\"nonzero\" fill-opacity=\"1\" /><path clip-path=\"url(#clip300)\" d=\"M66.5939 225.636 L54.7884 244.085 L66.5939 244.085 L66.5939 225.636 M65.367 221.562 L71.2466 221.562 L71.2466 244.085 L76.1772 244.085 L76.1772 247.974 L71.2466 247.974 L71.2466 256.122 L66.5939 256.122 L66.5939 247.974 L50.9921 247.974 L50.9921 243.46 L65.367 221.562 Z\" fill=\"#000000\" fill-rule=\"nonzero\" fill-opacity=\"1\" /><path clip-path=\"url(#clip300)\" d=\"M83.9086 250.242 L88.7928 250.242 L88.7928 256.122 L83.9086 256.122 L83.9086 250.242 Z\" fill=\"#000000\" fill-rule=\"nonzero\" fill-opacity=\"1\" /><path clip-path=\"url(#clip300)\" d=\"M108.978 224.641 Q105.367 224.641 103.538 228.205 Q101.733 231.747 101.733 238.877 Q101.733 245.983 103.538 249.548 Q105.367 253.089 108.978 253.089 Q112.612 253.089 114.418 249.548 Q116.246 245.983 116.246 238.877 Q116.246 231.747 114.418 228.205 Q112.612 224.641 108.978 224.641 M108.978 220.937 Q114.788 220.937 117.844 225.543 Q120.922 230.127 120.922 238.877 Q120.922 247.603 117.844 252.21 Q114.788 256.793 108.978 256.793 Q103.168 256.793 100.089 252.21 Q97.0335 247.603 97.0335 238.877 Q97.0335 230.127 100.089 225.543 Q103.168 220.937 108.978 220.937 Z\" fill=\"#000000\" fill-rule=\"nonzero\" fill-opacity=\"1\" /><polyline clip-path=\"url(#clip302)\" style=\"stroke:#009af9; stroke-linecap:round; stroke-linejoin:round; stroke-width:4; stroke-opacity:1; fill:none\" points=\"219.069,1445.72 239.784,1437.54 260.499,1429.52 281.215,1421.77 301.93,1414.45 322.646,1407.67 343.361,1401.54 364.076,1396.16 384.792,1391.61 405.507,1387.93 426.223,1385.17 446.938,1383.33 467.653,1382.4 488.369,1382.34 509.084,1383.1 529.8,1384.6 550.515,1386.74 571.231,1389.41 591.946,1392.48 612.661,1395.82 633.377,1399.28 654.092,1402.7 674.808,1405.94 695.523,1408.86 716.238,1411.31 736.954,1413.15 757.669,1414.27 778.385,1414.56 799.1,1413.94 819.815,1412.33 840.531,1409.68 861.246,1405.98 881.962,1401.2 902.677,1395.37 923.393,1388.51 944.108,1380.68 964.823,1371.95 985.539,1362.4 1006.25,1352.14 1026.97,1341.26 1047.68,1329.9 1068.4,1318.19 1089.12,1306.25 1109.83,1294.22 1130.55,1282.25 1151.26,1270.49 1171.98,1259.07 1192.69,1248.13 1213.41,1237.81 1234.12,1228.22 1254.84,1219.47 1275.55,1211.65 1296.27,1204.82 1316.99,1199.03 1337.7,1194.27 1358.42,1190.54 1379.13,1187.78 1399.85,1185.9 1420.56,1184.81 1441.28,1184.38 1461.99,1184.46 1482.71,1184.9 1503.42,1185.54 1524.14,1186.21 1544.85,1186.75 1565.57,1187.02 1586.29,1186.88 1607,1186.21 1627.72,1184.91 1648.43,1182.89 1669.15,1180.12 1689.86,1176.55 1710.58,1172.17 1731.29,1167.02 1752.01,1161.13 1772.72,1154.56 1793.44,1147.4 1814.16,1139.75 1834.87,1131.73 1855.59,1123.47 1876.3,1115.09 1897.02,1106.75 1917.73,1098.58 1938.45,1090.71 1959.16,1083.29 1979.88,1076.43 2000.59,1070.24 2021.31,1064.82 2042.02,1060.23 2062.74,1056.54 2083.46,1053.77 2104.17,1051.93 2124.89,1051.02 2145.6,1050.99 2166.32,1051.8 2187.03,1053.36 2207.75,1055.58 2228.46,1058.35 2249.18,1061.54 2269.89,1065.02 2290.61,1068.65 \"/>\n",
       "<polyline clip-path=\"url(#clip302)\" style=\"stroke:#e26f46; stroke-linecap:round; stroke-linejoin:round; stroke-width:4; stroke-opacity:1; fill:none\" points=\"219.069,465.14 239.784,447.159 260.499,429.234 281.215,411.421 301.93,393.776 322.646,376.352 343.361,359.204 364.076,342.386 384.792,325.947 405.507,309.939 426.223,294.409 446.938,279.404 467.653,264.969 488.369,251.144 509.084,237.971 529.8,225.486 550.515,213.724 571.231,202.716 591.946,192.49 612.661,183.072 633.377,174.485 654.092,166.747 674.808,159.874 695.523,153.879 716.238,148.769 736.954,144.551 757.669,141.226 778.385,138.792 799.1,137.244 819.815,136.574 840.531,136.768 861.246,137.812 881.962,139.687 902.677,142.369 923.393,145.834 944.108,150.054 964.823,154.995 985.539,160.625 1006.25,166.906 1026.97,173.798 1047.68,181.26 1068.4,189.246 1089.12,197.711 1109.83,206.607 1130.55,215.882 1151.26,225.486 1171.98,235.367 1192.69,245.469 1213.41,255.739 1234.12,266.12 1254.84,276.558 1275.55,286.996 1296.27,297.378 1316.99,307.647 1337.7,317.75 1358.42,327.63 1379.13,337.234 1399.85,346.51 1420.56,355.405 1441.28,363.87 1461.99,371.857 1482.71,379.318 1503.42,386.21 1524.14,392.491 1544.85,398.121 1565.57,403.063 1586.29,407.282 1607,410.747 1627.72,413.43 1648.43,415.304 1669.15,416.348 1689.86,416.543 1710.58,415.872 1731.29,414.324 1752.01,411.891 1772.72,408.566 1793.44,404.347 1814.16,399.238 1834.87,393.242 1855.59,386.369 1876.3,378.632 1897.02,370.044 1917.73,360.627 1938.45,350.401 1959.16,339.393 1979.88,327.63 2000.59,315.145 2021.31,301.972 2042.02,288.148 2062.74,273.712 2083.46,258.707 2104.17,243.178 2124.89,227.169 2145.6,210.731 2166.32,193.912 2187.03,176.765 2207.75,159.341 2228.46,141.695 2249.18,123.882 2269.89,105.957 2290.61,87.9763 \"/>\n",
       "<path clip-path=\"url(#clip300)\" d=\"M1841.92 1438.47 L2279.56 1438.47 L2279.56 1282.95 L1841.92 1282.95  Z\" fill=\"#ffffff\" fill-rule=\"evenodd\" fill-opacity=\"1\"/>\n",
       "<polyline clip-path=\"url(#clip300)\" style=\"stroke:#000000; stroke-linecap:round; stroke-linejoin:round; stroke-width:4; stroke-opacity:1; fill:none\" points=\"1841.92,1438.47 2279.56,1438.47 2279.56,1282.95 1841.92,1282.95 1841.92,1438.47 \"/>\n",
       "<polyline clip-path=\"url(#clip300)\" style=\"stroke:#009af9; stroke-linecap:round; stroke-linejoin:round; stroke-width:4; stroke-opacity:1; fill:none\" points=\"1866.32,1334.79 2012.71,1334.79 \"/>\n",
       "<path clip-path=\"url(#clip300)\" d=\"M2053.13 1320.69 Q2048.03 1320.69 2045.03 1324.48 Q2042.04 1328.28 2042.04 1334.83 Q2042.04 1341.36 2045.03 1345.15 Q2048.03 1348.95 2053.13 1348.95 Q2058.22 1348.95 2061.18 1345.15 Q2064.17 1341.36 2064.17 1334.83 Q2064.17 1328.28 2061.18 1324.48 Q2058.22 1320.69 2053.13 1320.69 M2053.13 1316.89 Q2060.4 1316.89 2064.75 1321.77 Q2069.1 1326.63 2069.1 1334.83 Q2069.1 1343 2064.75 1347.88 Q2060.4 1352.75 2053.13 1352.75 Q2045.84 1352.75 2041.46 1347.88 Q2037.11 1343.02 2037.11 1334.83 Q2037.11 1326.63 2041.46 1321.77 Q2045.84 1316.89 2053.13 1316.89 Z\" fill=\"#000000\" fill-rule=\"nonzero\" fill-opacity=\"1\" /><path clip-path=\"url(#clip300)\" d=\"M2102.29 1320.18 L2102.29 1325.11 Q2099.93 1322.91 2097.25 1321.82 Q2094.59 1320.73 2091.58 1320.73 Q2085.65 1320.73 2082.5 1324.37 Q2079.35 1327.98 2079.35 1334.83 Q2079.35 1341.66 2082.5 1345.29 Q2085.65 1348.9 2091.58 1348.9 Q2094.59 1348.9 2097.25 1347.82 Q2099.93 1346.73 2102.29 1344.53 L2102.29 1349.41 Q2099.84 1351.08 2097.09 1351.91 Q2094.35 1352.75 2091.3 1352.75 Q2083.45 1352.75 2078.94 1347.95 Q2074.42 1343.14 2074.42 1334.83 Q2074.42 1326.5 2078.94 1321.7 Q2083.45 1316.89 2091.3 1316.89 Q2094.4 1316.89 2097.13 1317.72 Q2099.89 1318.53 2102.29 1320.18 Z\" fill=\"#000000\" fill-rule=\"nonzero\" fill-opacity=\"1\" /><path clip-path=\"url(#clip300)\" d=\"M2118.43 1352.07 L2105.23 1317.51 L2110.12 1317.51 L2121.07 1346.61 L2132.04 1317.51 L2136.9 1317.51 L2123.73 1352.07 L2118.43 1352.07 Z\" fill=\"#000000\" fill-rule=\"nonzero\" fill-opacity=\"1\" /><path clip-path=\"url(#clip300)\" d=\"M2161.46 1359.94 L2161.46 1363.25 L2136.83 1363.25 L2136.83 1359.94 L2161.46 1359.94 Z\" fill=\"#000000\" fill-rule=\"nonzero\" fill-opacity=\"1\" /><path clip-path=\"url(#clip300)\" d=\"M2165.65 1317.51 L2170.33 1317.51 L2170.33 1348.14 L2187.15 1348.14 L2187.15 1352.07 L2165.65 1352.07 L2165.65 1317.51 Z\" fill=\"#000000\" fill-rule=\"nonzero\" fill-opacity=\"1\" /><path clip-path=\"url(#clip300)\" d=\"M2191.88 1326.15 L2196.14 1326.15 L2196.14 1352.07 L2191.88 1352.07 L2191.88 1326.15 M2191.88 1316.06 L2196.14 1316.06 L2196.14 1321.45 L2191.88 1321.45 L2191.88 1316.06 Z\" fill=\"#000000\" fill-rule=\"nonzero\" fill-opacity=\"1\" /><polyline clip-path=\"url(#clip300)\" style=\"stroke:#e26f46; stroke-linecap:round; stroke-linejoin:round; stroke-width:4; stroke-opacity:1; fill:none\" points=\"1866.32,1386.63 2012.71,1386.63 \"/>\n",
       "<path clip-path=\"url(#clip300)\" d=\"M2053.13 1372.53 Q2048.03 1372.53 2045.03 1376.32 Q2042.04 1380.12 2042.04 1386.67 Q2042.04 1393.2 2045.03 1396.99 Q2048.03 1400.79 2053.13 1400.79 Q2058.22 1400.79 2061.18 1396.99 Q2064.17 1393.2 2064.17 1386.67 Q2064.17 1380.12 2061.18 1376.32 Q2058.22 1372.53 2053.13 1372.53 M2053.13 1368.73 Q2060.4 1368.73 2064.75 1373.61 Q2069.1 1378.47 2069.1 1386.67 Q2069.1 1394.84 2064.75 1399.72 Q2060.4 1404.59 2053.13 1404.59 Q2045.84 1404.59 2041.46 1399.72 Q2037.11 1394.86 2037.11 1386.67 Q2037.11 1378.47 2041.46 1373.61 Q2045.84 1368.73 2053.13 1368.73 Z\" fill=\"#000000\" fill-rule=\"nonzero\" fill-opacity=\"1\" /><path clip-path=\"url(#clip300)\" d=\"M2102.29 1372.02 L2102.29 1376.95 Q2099.93 1374.75 2097.25 1373.66 Q2094.59 1372.57 2091.58 1372.57 Q2085.65 1372.57 2082.5 1376.21 Q2079.35 1379.82 2079.35 1386.67 Q2079.35 1393.5 2082.5 1397.13 Q2085.65 1400.74 2091.58 1400.74 Q2094.59 1400.74 2097.25 1399.66 Q2099.93 1398.57 2102.29 1396.37 L2102.29 1401.25 Q2099.84 1402.92 2097.09 1403.75 Q2094.35 1404.59 2091.3 1404.59 Q2083.45 1404.59 2078.94 1399.79 Q2074.42 1394.98 2074.42 1386.67 Q2074.42 1378.34 2078.94 1373.54 Q2083.45 1368.73 2091.3 1368.73 Q2094.4 1368.73 2097.13 1369.56 Q2099.89 1370.37 2102.29 1372.02 Z\" fill=\"#000000\" fill-rule=\"nonzero\" fill-opacity=\"1\" /><path clip-path=\"url(#clip300)\" d=\"M2118.43 1403.91 L2105.23 1369.35 L2110.12 1369.35 L2121.07 1398.45 L2132.04 1369.35 L2136.9 1369.35 L2123.73 1403.91 L2118.43 1403.91 Z\" fill=\"#000000\" fill-rule=\"nonzero\" fill-opacity=\"1\" /><path clip-path=\"url(#clip300)\" d=\"M2161.46 1411.78 L2161.46 1415.09 L2136.83 1415.09 L2136.83 1411.78 L2161.46 1411.78 Z\" fill=\"#000000\" fill-rule=\"nonzero\" fill-opacity=\"1\" /><path clip-path=\"url(#clip300)\" d=\"M2165.65 1369.35 L2170.33 1369.35 L2170.33 1399.98 L2187.15 1399.98 L2187.15 1403.91 L2165.65 1403.91 L2165.65 1369.35 Z\" fill=\"#000000\" fill-rule=\"nonzero\" fill-opacity=\"1\" /><path clip-path=\"url(#clip300)\" d=\"M2217.94 1372.02 L2217.94 1376.95 Q2215.58 1374.75 2212.9 1373.66 Q2210.23 1372.57 2207.22 1372.57 Q2201.3 1372.57 2198.15 1376.21 Q2195 1379.82 2195 1386.67 Q2195 1393.5 2198.15 1397.13 Q2201.3 1400.74 2207.22 1400.74 Q2210.23 1400.74 2212.9 1399.66 Q2215.58 1398.57 2217.94 1396.37 L2217.94 1401.25 Q2215.49 1402.92 2212.73 1403.75 Q2210 1404.59 2206.95 1404.59 Q2199.1 1404.59 2194.58 1399.79 Q2190.07 1394.98 2190.07 1386.67 Q2190.07 1378.34 2194.58 1373.54 Q2199.1 1368.73 2206.95 1368.73 Q2210.05 1368.73 2212.78 1369.56 Q2215.53 1370.37 2217.94 1372.02 Z\" fill=\"#000000\" fill-rule=\"nonzero\" fill-opacity=\"1\" /><path clip-path=\"url(#clip300)\" d=\"M2239.19 1372.53 Q2234.1 1372.53 2231.09 1376.32 Q2228.1 1380.12 2228.1 1386.67 Q2228.1 1393.2 2231.09 1396.99 Q2234.1 1400.79 2239.19 1400.79 Q2244.28 1400.79 2247.25 1396.99 Q2250.23 1393.2 2250.23 1386.67 Q2250.23 1380.12 2247.25 1376.32 Q2244.28 1372.53 2239.19 1372.53 M2239.19 1368.73 Q2246.46 1368.73 2250.81 1373.61 Q2255.16 1378.47 2255.16 1386.67 Q2255.16 1394.84 2250.81 1399.72 Q2246.46 1404.59 2239.19 1404.59 Q2231.9 1404.59 2227.52 1399.72 Q2223.17 1394.86 2223.17 1386.67 Q2223.17 1378.47 2227.52 1373.61 Q2231.9 1368.73 2239.19 1368.73 Z\" fill=\"#000000\" fill-rule=\"nonzero\" fill-opacity=\"1\" /></svg>\n"
      ],
      "text/html": [
       "<?xml version=\"1.0\" encoding=\"utf-8\"?>\n",
       "<svg xmlns=\"http://www.w3.org/2000/svg\" xmlns:xlink=\"http://www.w3.org/1999/xlink\" width=\"600\" height=\"400\" viewBox=\"0 0 2400 1600\">\n",
       "<defs>\n",
       "  <clipPath id=\"clip350\">\n",
       "    <rect x=\"0\" y=\"0\" width=\"2400\" height=\"1600\"/>\n",
       "  </clipPath>\n",
       "</defs>\n",
       "<path clip-path=\"url(#clip350)\" d=\"M0 1600 L2400 1600 L2400 8.88178e-14 L0 8.88178e-14  Z\" fill=\"#ffffff\" fill-rule=\"evenodd\" fill-opacity=\"1\"/>\n",
       "<defs>\n",
       "  <clipPath id=\"clip351\">\n",
       "    <rect x=\"480\" y=\"0\" width=\"1681\" height=\"1600\"/>\n",
       "  </clipPath>\n",
       "</defs>\n",
       "<path clip-path=\"url(#clip350)\" d=\"M156.922 1486.45 L2352.76 1486.45 L2352.76 47.2441 L156.922 47.2441  Z\" fill=\"#ffffff\" fill-rule=\"evenodd\" fill-opacity=\"1\"/>\n",
       "<defs>\n",
       "  <clipPath id=\"clip352\">\n",
       "    <rect x=\"156\" y=\"47\" width=\"2197\" height=\"1440\"/>\n",
       "  </clipPath>\n",
       "</defs>\n",
       "<polyline clip-path=\"url(#clip352)\" style=\"stroke:#000000; stroke-linecap:round; stroke-linejoin:round; stroke-width:2; stroke-opacity:0.1; fill:none\" points=\"219.069,1486.45 219.069,47.2441 \"/>\n",
       "<polyline clip-path=\"url(#clip352)\" style=\"stroke:#000000; stroke-linecap:round; stroke-linejoin:round; stroke-width:2; stroke-opacity:0.1; fill:none\" points=\"736.954,1486.45 736.954,47.2441 \"/>\n",
       "<polyline clip-path=\"url(#clip352)\" style=\"stroke:#000000; stroke-linecap:round; stroke-linejoin:round; stroke-width:2; stroke-opacity:0.1; fill:none\" points=\"1254.84,1486.45 1254.84,47.2441 \"/>\n",
       "<polyline clip-path=\"url(#clip352)\" style=\"stroke:#000000; stroke-linecap:round; stroke-linejoin:round; stroke-width:2; stroke-opacity:0.1; fill:none\" points=\"1772.72,1486.45 1772.72,47.2441 \"/>\n",
       "<polyline clip-path=\"url(#clip352)\" style=\"stroke:#000000; stroke-linecap:round; stroke-linejoin:round; stroke-width:2; stroke-opacity:0.1; fill:none\" points=\"2290.61,1486.45 2290.61,47.2441 \"/>\n",
       "<polyline clip-path=\"url(#clip352)\" style=\"stroke:#000000; stroke-linecap:round; stroke-linejoin:round; stroke-width:2; stroke-opacity:0.1; fill:none\" points=\"156.922,1370.33 2352.76,1370.33 \"/>\n",
       "<polyline clip-path=\"url(#clip352)\" style=\"stroke:#000000; stroke-linecap:round; stroke-linejoin:round; stroke-width:2; stroke-opacity:0.1; fill:none\" points=\"156.922,993.17 2352.76,993.17 \"/>\n",
       "<polyline clip-path=\"url(#clip352)\" style=\"stroke:#000000; stroke-linecap:round; stroke-linejoin:round; stroke-width:2; stroke-opacity:0.1; fill:none\" points=\"156.922,616.006 2352.76,616.006 \"/>\n",
       "<polyline clip-path=\"url(#clip352)\" style=\"stroke:#000000; stroke-linecap:round; stroke-linejoin:round; stroke-width:2; stroke-opacity:0.1; fill:none\" points=\"156.922,238.842 2352.76,238.842 \"/>\n",
       "<polyline clip-path=\"url(#clip350)\" style=\"stroke:#000000; stroke-linecap:round; stroke-linejoin:round; stroke-width:4; stroke-opacity:1; fill:none\" points=\"156.922,1486.45 2352.76,1486.45 \"/>\n",
       "<polyline clip-path=\"url(#clip350)\" style=\"stroke:#000000; stroke-linecap:round; stroke-linejoin:round; stroke-width:4; stroke-opacity:1; fill:none\" points=\"219.069,1486.45 219.069,1467.55 \"/>\n",
       "<polyline clip-path=\"url(#clip350)\" style=\"stroke:#000000; stroke-linecap:round; stroke-linejoin:round; stroke-width:4; stroke-opacity:1; fill:none\" points=\"736.954,1486.45 736.954,1467.55 \"/>\n",
       "<polyline clip-path=\"url(#clip350)\" style=\"stroke:#000000; stroke-linecap:round; stroke-linejoin:round; stroke-width:4; stroke-opacity:1; fill:none\" points=\"1254.84,1486.45 1254.84,1467.55 \"/>\n",
       "<polyline clip-path=\"url(#clip350)\" style=\"stroke:#000000; stroke-linecap:round; stroke-linejoin:round; stroke-width:4; stroke-opacity:1; fill:none\" points=\"1772.72,1486.45 1772.72,1467.55 \"/>\n",
       "<polyline clip-path=\"url(#clip350)\" style=\"stroke:#000000; stroke-linecap:round; stroke-linejoin:round; stroke-width:4; stroke-opacity:1; fill:none\" points=\"2290.61,1486.45 2290.61,1467.55 \"/>\n",
       "<path clip-path=\"url(#clip350)\" d=\"M181.372 1517.37 Q177.761 1517.37 175.932 1520.93 Q174.127 1524.47 174.127 1531.6 Q174.127 1538.71 175.932 1542.27 Q177.761 1545.82 181.372 1545.82 Q185.006 1545.82 186.812 1542.27 Q188.64 1538.71 188.64 1531.6 Q188.64 1524.47 186.812 1520.93 Q185.006 1517.37 181.372 1517.37 M181.372 1513.66 Q187.182 1513.66 190.238 1518.27 Q193.316 1522.85 193.316 1531.6 Q193.316 1540.33 190.238 1544.94 Q187.182 1549.52 181.372 1549.52 Q175.562 1549.52 172.483 1544.94 Q169.428 1540.33 169.428 1531.6 Q169.428 1522.85 172.483 1518.27 Q175.562 1513.66 181.372 1513.66 Z\" fill=\"#000000\" fill-rule=\"nonzero\" fill-opacity=\"1\" /><path clip-path=\"url(#clip350)\" d=\"M201.534 1542.97 L206.418 1542.97 L206.418 1548.85 L201.534 1548.85 L201.534 1542.97 Z\" fill=\"#000000\" fill-rule=\"nonzero\" fill-opacity=\"1\" /><path clip-path=\"url(#clip350)\" d=\"M226.603 1517.37 Q222.992 1517.37 221.163 1520.93 Q219.358 1524.47 219.358 1531.6 Q219.358 1538.71 221.163 1542.27 Q222.992 1545.82 226.603 1545.82 Q230.237 1545.82 232.043 1542.27 Q233.872 1538.71 233.872 1531.6 Q233.872 1524.47 232.043 1520.93 Q230.237 1517.37 226.603 1517.37 M226.603 1513.66 Q232.413 1513.66 235.469 1518.27 Q238.548 1522.85 238.548 1531.6 Q238.548 1540.33 235.469 1544.94 Q232.413 1549.52 226.603 1549.52 Q220.793 1549.52 217.714 1544.94 Q214.659 1540.33 214.659 1531.6 Q214.659 1522.85 217.714 1518.27 Q220.793 1513.66 226.603 1513.66 Z\" fill=\"#000000\" fill-rule=\"nonzero\" fill-opacity=\"1\" /><path clip-path=\"url(#clip350)\" d=\"M256.765 1517.37 Q253.154 1517.37 251.325 1520.93 Q249.52 1524.47 249.52 1531.6 Q249.52 1538.71 251.325 1542.27 Q253.154 1545.82 256.765 1545.82 Q260.399 1545.82 262.205 1542.27 Q264.034 1538.71 264.034 1531.6 Q264.034 1524.47 262.205 1520.93 Q260.399 1517.37 256.765 1517.37 M256.765 1513.66 Q262.575 1513.66 265.631 1518.27 Q268.709 1522.85 268.709 1531.6 Q268.709 1540.33 265.631 1544.94 Q262.575 1549.52 256.765 1549.52 Q250.955 1549.52 247.876 1544.94 Q244.821 1540.33 244.821 1531.6 Q244.821 1522.85 247.876 1518.27 Q250.955 1513.66 256.765 1513.66 Z\" fill=\"#000000\" fill-rule=\"nonzero\" fill-opacity=\"1\" /><path clip-path=\"url(#clip350)\" d=\"M699.755 1517.37 Q696.144 1517.37 694.315 1520.93 Q692.51 1524.47 692.51 1531.6 Q692.51 1538.71 694.315 1542.27 Q696.144 1545.82 699.755 1545.82 Q703.389 1545.82 705.195 1542.27 Q707.023 1538.71 707.023 1531.6 Q707.023 1524.47 705.195 1520.93 Q703.389 1517.37 699.755 1517.37 M699.755 1513.66 Q705.565 1513.66 708.621 1518.27 Q711.699 1522.85 711.699 1531.6 Q711.699 1540.33 708.621 1544.94 Q705.565 1549.52 699.755 1549.52 Q693.945 1549.52 690.866 1544.94 Q687.811 1540.33 687.811 1531.6 Q687.811 1522.85 690.866 1518.27 Q693.945 1513.66 699.755 1513.66 Z\" fill=\"#000000\" fill-rule=\"nonzero\" fill-opacity=\"1\" /><path clip-path=\"url(#clip350)\" d=\"M719.917 1542.97 L724.801 1542.97 L724.801 1548.85 L719.917 1548.85 L719.917 1542.97 Z\" fill=\"#000000\" fill-rule=\"nonzero\" fill-opacity=\"1\" /><path clip-path=\"url(#clip350)\" d=\"M739.014 1544.91 L755.333 1544.91 L755.333 1548.85 L733.389 1548.85 L733.389 1544.91 Q736.051 1542.16 740.634 1537.53 Q745.241 1532.88 746.421 1531.53 Q748.667 1529.01 749.546 1527.27 Q750.449 1525.51 750.449 1523.82 Q750.449 1521.07 748.505 1519.33 Q746.583 1517.6 743.482 1517.6 Q741.283 1517.6 738.829 1518.36 Q736.398 1519.13 733.621 1520.68 L733.621 1515.95 Q736.445 1514.82 738.898 1514.24 Q741.352 1513.66 743.389 1513.66 Q748.759 1513.66 751.954 1516.35 Q755.148 1519.03 755.148 1523.52 Q755.148 1525.65 754.338 1527.57 Q753.551 1529.47 751.444 1532.07 Q750.866 1532.74 747.764 1535.95 Q744.662 1539.15 739.014 1544.91 Z\" fill=\"#000000\" fill-rule=\"nonzero\" fill-opacity=\"1\" /><path clip-path=\"url(#clip350)\" d=\"M765.194 1514.29 L783.551 1514.29 L783.551 1518.22 L769.477 1518.22 L769.477 1526.7 Q770.495 1526.35 771.514 1526.19 Q772.532 1526 773.551 1526 Q779.338 1526 782.717 1529.17 Q786.097 1532.34 786.097 1537.76 Q786.097 1543.34 782.625 1546.44 Q779.153 1549.52 772.833 1549.52 Q770.657 1549.52 768.389 1549.15 Q766.143 1548.78 763.736 1548.04 L763.736 1543.34 Q765.819 1544.47 768.042 1545.03 Q770.264 1545.58 772.741 1545.58 Q776.745 1545.58 779.083 1543.48 Q781.421 1541.37 781.421 1537.76 Q781.421 1534.15 779.083 1532.04 Q776.745 1529.94 772.741 1529.94 Q770.866 1529.94 768.991 1530.35 Q767.139 1530.77 765.194 1531.65 L765.194 1514.29 Z\" fill=\"#000000\" fill-rule=\"nonzero\" fill-opacity=\"1\" /><path clip-path=\"url(#clip350)\" d=\"M1217.14 1517.37 Q1213.53 1517.37 1211.7 1520.93 Q1209.9 1524.47 1209.9 1531.6 Q1209.9 1538.71 1211.7 1542.27 Q1213.53 1545.82 1217.14 1545.82 Q1220.78 1545.82 1222.58 1542.27 Q1224.41 1538.71 1224.41 1531.6 Q1224.41 1524.47 1222.58 1520.93 Q1220.78 1517.37 1217.14 1517.37 M1217.14 1513.66 Q1222.95 1513.66 1226.01 1518.27 Q1229.09 1522.85 1229.09 1531.6 Q1229.09 1540.33 1226.01 1544.94 Q1222.95 1549.52 1217.14 1549.52 Q1211.33 1549.52 1208.25 1544.94 Q1205.2 1540.33 1205.2 1531.6 Q1205.2 1522.85 1208.25 1518.27 Q1211.33 1513.66 1217.14 1513.66 Z\" fill=\"#000000\" fill-rule=\"nonzero\" fill-opacity=\"1\" /><path clip-path=\"url(#clip350)\" d=\"M1237.3 1542.97 L1242.19 1542.97 L1242.19 1548.85 L1237.3 1548.85 L1237.3 1542.97 Z\" fill=\"#000000\" fill-rule=\"nonzero\" fill-opacity=\"1\" /><path clip-path=\"url(#clip350)\" d=\"M1252.42 1514.29 L1270.78 1514.29 L1270.78 1518.22 L1256.7 1518.22 L1256.7 1526.7 Q1257.72 1526.35 1258.74 1526.19 Q1259.76 1526 1260.78 1526 Q1266.56 1526 1269.94 1529.17 Q1273.32 1532.34 1273.32 1537.76 Q1273.32 1543.34 1269.85 1546.44 Q1266.38 1549.52 1260.06 1549.52 Q1257.88 1549.52 1255.61 1549.15 Q1253.37 1548.78 1250.96 1548.04 L1250.96 1543.34 Q1253.05 1544.47 1255.27 1545.03 Q1257.49 1545.58 1259.97 1545.58 Q1263.97 1545.58 1266.31 1543.48 Q1268.65 1541.37 1268.65 1537.76 Q1268.65 1534.15 1266.31 1532.04 Q1263.97 1529.94 1259.97 1529.94 Q1258.09 1529.94 1256.22 1530.35 Q1254.36 1530.77 1252.42 1531.65 L1252.42 1514.29 Z\" fill=\"#000000\" fill-rule=\"nonzero\" fill-opacity=\"1\" /><path clip-path=\"url(#clip350)\" d=\"M1292.54 1517.37 Q1288.92 1517.37 1287.1 1520.93 Q1285.29 1524.47 1285.29 1531.6 Q1285.29 1538.71 1287.1 1542.27 Q1288.92 1545.82 1292.54 1545.82 Q1296.17 1545.82 1297.98 1542.27 Q1299.8 1538.71 1299.8 1531.6 Q1299.8 1524.47 1297.98 1520.93 Q1296.17 1517.37 1292.54 1517.37 M1292.54 1513.66 Q1298.35 1513.66 1301.4 1518.27 Q1304.48 1522.85 1304.48 1531.6 Q1304.48 1540.33 1301.4 1544.94 Q1298.35 1549.52 1292.54 1549.52 Q1286.73 1549.52 1283.65 1544.94 Q1280.59 1540.33 1280.59 1531.6 Q1280.59 1522.85 1283.65 1518.27 Q1286.73 1513.66 1292.54 1513.66 Z\" fill=\"#000000\" fill-rule=\"nonzero\" fill-opacity=\"1\" /><path clip-path=\"url(#clip350)\" d=\"M1735.53 1517.37 Q1731.91 1517.37 1730.09 1520.93 Q1728.28 1524.47 1728.28 1531.6 Q1728.28 1538.71 1730.09 1542.27 Q1731.91 1545.82 1735.53 1545.82 Q1739.16 1545.82 1740.97 1542.27 Q1742.79 1538.71 1742.79 1531.6 Q1742.79 1524.47 1740.97 1520.93 Q1739.16 1517.37 1735.53 1517.37 M1735.53 1513.66 Q1741.34 1513.66 1744.39 1518.27 Q1747.47 1522.85 1747.47 1531.6 Q1747.47 1540.33 1744.39 1544.94 Q1741.34 1549.52 1735.53 1549.52 Q1729.72 1549.52 1726.64 1544.94 Q1723.58 1540.33 1723.58 1531.6 Q1723.58 1522.85 1726.64 1518.27 Q1729.72 1513.66 1735.53 1513.66 Z\" fill=\"#000000\" fill-rule=\"nonzero\" fill-opacity=\"1\" /><path clip-path=\"url(#clip350)\" d=\"M1755.69 1542.97 L1760.57 1542.97 L1760.57 1548.85 L1755.69 1548.85 L1755.69 1542.97 Z\" fill=\"#000000\" fill-rule=\"nonzero\" fill-opacity=\"1\" /><path clip-path=\"url(#clip350)\" d=\"M1769.58 1514.29 L1791.8 1514.29 L1791.8 1516.28 L1779.25 1548.85 L1774.37 1548.85 L1786.17 1518.22 L1769.58 1518.22 L1769.58 1514.29 Z\" fill=\"#000000\" fill-rule=\"nonzero\" fill-opacity=\"1\" /><path clip-path=\"url(#clip350)\" d=\"M1800.96 1514.29 L1819.32 1514.29 L1819.32 1518.22 L1805.25 1518.22 L1805.25 1526.7 Q1806.27 1526.35 1807.28 1526.19 Q1808.3 1526 1809.32 1526 Q1815.11 1526 1818.49 1529.17 Q1821.87 1532.34 1821.87 1537.76 Q1821.87 1543.34 1818.4 1546.44 Q1814.92 1549.52 1808.6 1549.52 Q1806.43 1549.52 1804.16 1549.15 Q1801.91 1548.78 1799.51 1548.04 L1799.51 1543.34 Q1801.59 1544.47 1803.81 1545.03 Q1806.03 1545.58 1808.51 1545.58 Q1812.52 1545.58 1814.85 1543.48 Q1817.19 1541.37 1817.19 1537.76 Q1817.19 1534.15 1814.85 1532.04 Q1812.52 1529.94 1808.51 1529.94 Q1806.64 1529.94 1804.76 1530.35 Q1802.91 1530.77 1800.96 1531.65 L1800.96 1514.29 Z\" fill=\"#000000\" fill-rule=\"nonzero\" fill-opacity=\"1\" /><path clip-path=\"url(#clip350)\" d=\"M2242.68 1544.91 L2250.32 1544.91 L2250.32 1518.55 L2242.01 1520.21 L2242.01 1515.95 L2250.27 1514.29 L2254.95 1514.29 L2254.95 1544.91 L2262.59 1544.91 L2262.59 1548.85 L2242.68 1548.85 L2242.68 1544.91 Z\" fill=\"#000000\" fill-rule=\"nonzero\" fill-opacity=\"1\" /><path clip-path=\"url(#clip350)\" d=\"M2272.03 1542.97 L2276.92 1542.97 L2276.92 1548.85 L2272.03 1548.85 L2272.03 1542.97 Z\" fill=\"#000000\" fill-rule=\"nonzero\" fill-opacity=\"1\" /><path clip-path=\"url(#clip350)\" d=\"M2297.1 1517.37 Q2293.49 1517.37 2291.66 1520.93 Q2289.86 1524.47 2289.86 1531.6 Q2289.86 1538.71 2291.66 1542.27 Q2293.49 1545.82 2297.1 1545.82 Q2300.74 1545.82 2302.54 1542.27 Q2304.37 1538.71 2304.37 1531.6 Q2304.37 1524.47 2302.54 1520.93 Q2300.74 1517.37 2297.1 1517.37 M2297.1 1513.66 Q2302.91 1513.66 2305.97 1518.27 Q2309.05 1522.85 2309.05 1531.6 Q2309.05 1540.33 2305.97 1544.94 Q2302.91 1549.52 2297.1 1549.52 Q2291.29 1549.52 2288.21 1544.94 Q2285.16 1540.33 2285.16 1531.6 Q2285.16 1522.85 2288.21 1518.27 Q2291.29 1513.66 2297.1 1513.66 Z\" fill=\"#000000\" fill-rule=\"nonzero\" fill-opacity=\"1\" /><path clip-path=\"url(#clip350)\" d=\"M2327.26 1517.37 Q2323.65 1517.37 2321.82 1520.93 Q2320.02 1524.47 2320.02 1531.6 Q2320.02 1538.71 2321.82 1542.27 Q2323.65 1545.82 2327.26 1545.82 Q2330.9 1545.82 2332.7 1542.27 Q2334.53 1538.71 2334.53 1531.6 Q2334.53 1524.47 2332.7 1520.93 Q2330.9 1517.37 2327.26 1517.37 M2327.26 1513.66 Q2333.07 1513.66 2336.13 1518.27 Q2339.21 1522.85 2339.21 1531.6 Q2339.21 1540.33 2336.13 1544.94 Q2333.07 1549.52 2327.26 1549.52 Q2321.45 1549.52 2318.38 1544.94 Q2315.32 1540.33 2315.32 1531.6 Q2315.32 1522.85 2318.38 1518.27 Q2321.45 1513.66 2327.26 1513.66 Z\" fill=\"#000000\" fill-rule=\"nonzero\" fill-opacity=\"1\" /><polyline clip-path=\"url(#clip350)\" style=\"stroke:#000000; stroke-linecap:round; stroke-linejoin:round; stroke-width:4; stroke-opacity:1; fill:none\" points=\"156.922,1486.45 156.922,47.2441 \"/>\n",
       "<polyline clip-path=\"url(#clip350)\" style=\"stroke:#000000; stroke-linecap:round; stroke-linejoin:round; stroke-width:4; stroke-opacity:1; fill:none\" points=\"156.922,1370.33 175.82,1370.33 \"/>\n",
       "<polyline clip-path=\"url(#clip350)\" style=\"stroke:#000000; stroke-linecap:round; stroke-linejoin:round; stroke-width:4; stroke-opacity:1; fill:none\" points=\"156.922,993.17 175.82,993.17 \"/>\n",
       "<polyline clip-path=\"url(#clip350)\" style=\"stroke:#000000; stroke-linecap:round; stroke-linejoin:round; stroke-width:4; stroke-opacity:1; fill:none\" points=\"156.922,616.006 175.82,616.006 \"/>\n",
       "<polyline clip-path=\"url(#clip350)\" style=\"stroke:#000000; stroke-linecap:round; stroke-linejoin:round; stroke-width:4; stroke-opacity:1; fill:none\" points=\"156.922,238.842 175.82,238.842 \"/>\n",
       "<path clip-path=\"url(#clip350)\" d=\"M58.7699 1383.68 L75.0892 1383.68 L75.0892 1387.61 L53.1449 1387.61 L53.1449 1383.68 Q55.8069 1380.92 60.3902 1376.29 Q64.9967 1371.64 66.1772 1370.3 Q68.4226 1367.78 69.3022 1366.04 Q70.205 1364.28 70.205 1362.59 Q70.205 1359.84 68.2606 1358.1 Q66.3393 1356.36 63.2374 1356.36 Q61.0384 1356.36 58.5847 1357.13 Q56.1541 1357.89 53.3764 1359.44 L53.3764 1354.72 Q56.2004 1353.59 58.6541 1353.01 Q61.1078 1352.43 63.1448 1352.43 Q68.5152 1352.43 71.7096 1355.11 Q74.904 1357.8 74.904 1362.29 Q74.904 1364.42 74.0939 1366.34 Q73.3068 1368.24 71.2004 1370.83 Q70.6217 1371.5 67.5198 1374.72 Q64.418 1377.91 58.7699 1383.68 Z\" fill=\"#000000\" fill-rule=\"nonzero\" fill-opacity=\"1\" /><path clip-path=\"url(#clip350)\" d=\"M84.904 1381.73 L89.7882 1381.73 L89.7882 1387.61 L84.904 1387.61 L84.904 1381.73 Z\" fill=\"#000000\" fill-rule=\"nonzero\" fill-opacity=\"1\" /><path clip-path=\"url(#clip350)\" d=\"M100.02 1353.05 L118.376 1353.05 L118.376 1356.99 L104.302 1356.99 L104.302 1365.46 Q105.321 1365.11 106.339 1364.95 Q107.358 1364.77 108.376 1364.77 Q114.163 1364.77 117.543 1367.94 Q120.922 1371.11 120.922 1376.53 Q120.922 1382.1 117.45 1385.21 Q113.978 1388.28 107.658 1388.28 Q105.483 1388.28 103.214 1387.91 Q100.969 1387.54 98.5613 1386.8 L98.5613 1382.1 Q100.645 1383.24 102.867 1383.79 Q105.089 1384.35 107.566 1384.35 Q111.571 1384.35 113.908 1382.24 Q116.246 1380.14 116.246 1376.53 Q116.246 1372.91 113.908 1370.81 Q111.571 1368.7 107.566 1368.7 Q105.691 1368.7 103.816 1369.12 Q101.964 1369.53 100.02 1370.41 L100.02 1353.05 Z\" fill=\"#000000\" fill-rule=\"nonzero\" fill-opacity=\"1\" /><path clip-path=\"url(#clip350)\" d=\"M67.9133 991.815 Q71.2698 992.533 73.1448 994.802 Q75.0429 997.07 75.0429 1000.4 Q75.0429 1005.52 71.5244 1008.32 Q68.0059 1011.12 61.5245 1011.12 Q59.3486 1011.12 57.0338 1010.68 Q54.7421 1010.26 52.2884 1009.41 L52.2884 1004.89 Q54.2328 1006.03 56.5477 1006.61 Q58.8625 1007.19 61.3856 1007.19 Q65.7837 1007.19 68.0754 1005.45 Q70.3902 1003.71 70.3902 1000.4 Q70.3902 997.348 68.2374 995.635 Q66.1078 993.899 62.2884 993.899 L58.2606 993.899 L58.2606 990.056 L62.4735 990.056 Q65.9226 990.056 67.7513 988.69 Q69.58 987.302 69.58 984.709 Q69.58 982.047 67.6819 980.635 Q65.8069 979.2 62.2884 979.2 Q60.3671 979.2 58.168 979.616 Q55.969 980.033 53.3301 980.913 L53.3301 976.746 Q55.9921 976.005 58.3069 975.635 Q60.6449 975.265 62.705 975.265 Q68.0291 975.265 71.1309 977.695 Q74.2327 980.103 74.2327 984.223 Q74.2327 987.093 72.5892 989.084 Q70.9457 991.052 67.9133 991.815 Z\" fill=\"#000000\" fill-rule=\"nonzero\" fill-opacity=\"1\" /><path clip-path=\"url(#clip350)\" d=\"M83.9086 1004.57 L88.7928 1004.57 L88.7928 1010.45 L83.9086 1010.45 L83.9086 1004.57 Z\" fill=\"#000000\" fill-rule=\"nonzero\" fill-opacity=\"1\" /><path clip-path=\"url(#clip350)\" d=\"M108.978 978.968 Q105.367 978.968 103.538 982.533 Q101.733 986.075 101.733 993.204 Q101.733 1000.31 103.538 1003.88 Q105.367 1007.42 108.978 1007.42 Q112.612 1007.42 114.418 1003.88 Q116.246 1000.31 116.246 993.204 Q116.246 986.075 114.418 982.533 Q112.612 978.968 108.978 978.968 M108.978 975.265 Q114.788 975.265 117.844 979.871 Q120.922 984.454 120.922 993.204 Q120.922 1001.93 117.844 1006.54 Q114.788 1011.12 108.978 1011.12 Q103.168 1011.12 100.089 1006.54 Q97.0335 1001.93 97.0335 993.204 Q97.0335 984.454 100.089 979.871 Q103.168 975.265 108.978 975.265 Z\" fill=\"#000000\" fill-rule=\"nonzero\" fill-opacity=\"1\" /><path clip-path=\"url(#clip350)\" d=\"M68.9087 614.652 Q72.2652 615.369 74.1402 617.638 Q76.0383 619.906 76.0383 623.239 Q76.0383 628.355 72.5198 631.156 Q69.0013 633.957 62.5198 633.957 Q60.3439 633.957 58.0291 633.517 Q55.7375 633.101 53.2838 632.244 L53.2838 627.73 Q55.2282 628.864 57.543 629.443 Q59.8578 630.022 62.381 630.022 Q66.7791 630.022 69.0707 628.286 Q71.3855 626.55 71.3855 623.239 Q71.3855 620.184 69.2328 618.471 Q67.1032 616.735 63.2837 616.735 L59.256 616.735 L59.256 612.892 L63.4689 612.892 Q66.918 612.892 68.7467 611.527 Q70.5754 610.138 70.5754 607.545 Q70.5754 604.883 68.6772 603.471 Q66.8022 602.036 63.2837 602.036 Q61.3624 602.036 59.1634 602.453 Q56.9643 602.869 54.3254 603.749 L54.3254 599.582 Q56.9875 598.841 59.3023 598.471 Q61.6402 598.101 63.7004 598.101 Q69.0244 598.101 72.1263 600.531 Q75.2281 602.939 75.2281 607.059 Q75.2281 609.929 73.5846 611.92 Q71.9411 613.888 68.9087 614.652 Z\" fill=\"#000000\" fill-rule=\"nonzero\" fill-opacity=\"1\" /><path clip-path=\"url(#clip350)\" d=\"M84.904 627.406 L89.7882 627.406 L89.7882 633.286 L84.904 633.286 L84.904 627.406 Z\" fill=\"#000000\" fill-rule=\"nonzero\" fill-opacity=\"1\" /><path clip-path=\"url(#clip350)\" d=\"M100.02 598.726 L118.376 598.726 L118.376 602.661 L104.302 602.661 L104.302 611.133 Q105.321 610.786 106.339 610.624 Q107.358 610.439 108.376 610.439 Q114.163 610.439 117.543 613.61 Q120.922 616.781 120.922 622.198 Q120.922 627.776 117.45 630.878 Q113.978 633.957 107.658 633.957 Q105.483 633.957 103.214 633.587 Q100.969 633.216 98.5613 632.476 L98.5613 627.776 Q100.645 628.911 102.867 629.466 Q105.089 630.022 107.566 630.022 Q111.571 630.022 113.908 627.915 Q116.246 625.809 116.246 622.198 Q116.246 618.587 113.908 616.48 Q111.571 614.374 107.566 614.374 Q105.691 614.374 103.816 614.79 Q101.964 615.207 100.02 616.087 L100.02 598.726 Z\" fill=\"#000000\" fill-rule=\"nonzero\" fill-opacity=\"1\" /><path clip-path=\"url(#clip350)\" d=\"M66.5939 225.636 L54.7884 244.085 L66.5939 244.085 L66.5939 225.636 M65.367 221.562 L71.2466 221.562 L71.2466 244.085 L76.1772 244.085 L76.1772 247.974 L71.2466 247.974 L71.2466 256.122 L66.5939 256.122 L66.5939 247.974 L50.9921 247.974 L50.9921 243.46 L65.367 221.562 Z\" fill=\"#000000\" fill-rule=\"nonzero\" fill-opacity=\"1\" /><path clip-path=\"url(#clip350)\" d=\"M83.9086 250.242 L88.7928 250.242 L88.7928 256.122 L83.9086 256.122 L83.9086 250.242 Z\" fill=\"#000000\" fill-rule=\"nonzero\" fill-opacity=\"1\" /><path clip-path=\"url(#clip350)\" d=\"M108.978 224.641 Q105.367 224.641 103.538 228.205 Q101.733 231.747 101.733 238.877 Q101.733 245.983 103.538 249.548 Q105.367 253.089 108.978 253.089 Q112.612 253.089 114.418 249.548 Q116.246 245.983 116.246 238.877 Q116.246 231.747 114.418 228.205 Q112.612 224.641 108.978 224.641 M108.978 220.937 Q114.788 220.937 117.844 225.543 Q120.922 230.127 120.922 238.877 Q120.922 247.603 117.844 252.21 Q114.788 256.793 108.978 256.793 Q103.168 256.793 100.089 252.21 Q97.0335 247.603 97.0335 238.877 Q97.0335 230.127 100.089 225.543 Q103.168 220.937 108.978 220.937 Z\" fill=\"#000000\" fill-rule=\"nonzero\" fill-opacity=\"1\" /><polyline clip-path=\"url(#clip352)\" style=\"stroke:#009af9; stroke-linecap:round; stroke-linejoin:round; stroke-width:4; stroke-opacity:1; fill:none\" points=\"219.069,1445.72 239.784,1437.54 260.499,1429.52 281.215,1421.77 301.93,1414.45 322.646,1407.67 343.361,1401.54 364.076,1396.16 384.792,1391.61 405.507,1387.93 426.223,1385.17 446.938,1383.33 467.653,1382.4 488.369,1382.34 509.084,1383.1 529.8,1384.6 550.515,1386.74 571.231,1389.41 591.946,1392.48 612.661,1395.82 633.377,1399.28 654.092,1402.7 674.808,1405.94 695.523,1408.86 716.238,1411.31 736.954,1413.15 757.669,1414.27 778.385,1414.56 799.1,1413.94 819.815,1412.33 840.531,1409.68 861.246,1405.98 881.962,1401.2 902.677,1395.37 923.393,1388.51 944.108,1380.68 964.823,1371.95 985.539,1362.4 1006.25,1352.14 1026.97,1341.26 1047.68,1329.9 1068.4,1318.19 1089.12,1306.25 1109.83,1294.22 1130.55,1282.25 1151.26,1270.49 1171.98,1259.07 1192.69,1248.13 1213.41,1237.81 1234.12,1228.22 1254.84,1219.47 1275.55,1211.65 1296.27,1204.82 1316.99,1199.03 1337.7,1194.27 1358.42,1190.54 1379.13,1187.78 1399.85,1185.9 1420.56,1184.81 1441.28,1184.38 1461.99,1184.46 1482.71,1184.9 1503.42,1185.54 1524.14,1186.21 1544.85,1186.75 1565.57,1187.02 1586.29,1186.88 1607,1186.21 1627.72,1184.91 1648.43,1182.89 1669.15,1180.12 1689.86,1176.55 1710.58,1172.17 1731.29,1167.02 1752.01,1161.13 1772.72,1154.56 1793.44,1147.4 1814.16,1139.75 1834.87,1131.73 1855.59,1123.47 1876.3,1115.09 1897.02,1106.75 1917.73,1098.58 1938.45,1090.71 1959.16,1083.29 1979.88,1076.43 2000.59,1070.24 2021.31,1064.82 2042.02,1060.23 2062.74,1056.54 2083.46,1053.77 2104.17,1051.93 2124.89,1051.02 2145.6,1050.99 2166.32,1051.8 2187.03,1053.36 2207.75,1055.58 2228.46,1058.35 2249.18,1061.54 2269.89,1065.02 2290.61,1068.65 \"/>\n",
       "<polyline clip-path=\"url(#clip352)\" style=\"stroke:#e26f46; stroke-linecap:round; stroke-linejoin:round; stroke-width:4; stroke-opacity:1; fill:none\" points=\"219.069,465.14 239.784,447.159 260.499,429.234 281.215,411.421 301.93,393.776 322.646,376.352 343.361,359.204 364.076,342.386 384.792,325.947 405.507,309.939 426.223,294.409 446.938,279.404 467.653,264.969 488.369,251.144 509.084,237.971 529.8,225.486 550.515,213.724 571.231,202.716 591.946,192.49 612.661,183.072 633.377,174.485 654.092,166.747 674.808,159.874 695.523,153.879 716.238,148.769 736.954,144.551 757.669,141.226 778.385,138.792 799.1,137.244 819.815,136.574 840.531,136.768 861.246,137.812 881.962,139.687 902.677,142.369 923.393,145.834 944.108,150.054 964.823,154.995 985.539,160.625 1006.25,166.906 1026.97,173.798 1047.68,181.26 1068.4,189.246 1089.12,197.711 1109.83,206.607 1130.55,215.882 1151.26,225.486 1171.98,235.367 1192.69,245.469 1213.41,255.739 1234.12,266.12 1254.84,276.558 1275.55,286.996 1296.27,297.378 1316.99,307.647 1337.7,317.75 1358.42,327.63 1379.13,337.234 1399.85,346.51 1420.56,355.405 1441.28,363.87 1461.99,371.857 1482.71,379.318 1503.42,386.21 1524.14,392.491 1544.85,398.121 1565.57,403.063 1586.29,407.282 1607,410.747 1627.72,413.43 1648.43,415.304 1669.15,416.348 1689.86,416.543 1710.58,415.872 1731.29,414.324 1752.01,411.891 1772.72,408.566 1793.44,404.347 1814.16,399.238 1834.87,393.242 1855.59,386.369 1876.3,378.632 1897.02,370.044 1917.73,360.627 1938.45,350.401 1959.16,339.393 1979.88,327.63 2000.59,315.145 2021.31,301.972 2042.02,288.148 2062.74,273.712 2083.46,258.707 2104.17,243.178 2124.89,227.169 2145.6,210.731 2166.32,193.912 2187.03,176.765 2207.75,159.341 2228.46,141.695 2249.18,123.882 2269.89,105.957 2290.61,87.9763 \"/>\n",
       "<path clip-path=\"url(#clip350)\" d=\"M1841.92 1438.47 L2279.56 1438.47 L2279.56 1282.95 L1841.92 1282.95  Z\" fill=\"#ffffff\" fill-rule=\"evenodd\" fill-opacity=\"1\"/>\n",
       "<polyline clip-path=\"url(#clip350)\" style=\"stroke:#000000; stroke-linecap:round; stroke-linejoin:round; stroke-width:4; stroke-opacity:1; fill:none\" points=\"1841.92,1438.47 2279.56,1438.47 2279.56,1282.95 1841.92,1282.95 1841.92,1438.47 \"/>\n",
       "<polyline clip-path=\"url(#clip350)\" style=\"stroke:#009af9; stroke-linecap:round; stroke-linejoin:round; stroke-width:4; stroke-opacity:1; fill:none\" points=\"1866.32,1334.79 2012.71,1334.79 \"/>\n",
       "<path clip-path=\"url(#clip350)\" d=\"M2053.13 1320.69 Q2048.03 1320.69 2045.03 1324.48 Q2042.04 1328.28 2042.04 1334.83 Q2042.04 1341.36 2045.03 1345.15 Q2048.03 1348.95 2053.13 1348.95 Q2058.22 1348.95 2061.18 1345.15 Q2064.17 1341.36 2064.17 1334.83 Q2064.17 1328.28 2061.18 1324.48 Q2058.22 1320.69 2053.13 1320.69 M2053.13 1316.89 Q2060.4 1316.89 2064.75 1321.77 Q2069.1 1326.63 2069.1 1334.83 Q2069.1 1343 2064.75 1347.88 Q2060.4 1352.75 2053.13 1352.75 Q2045.84 1352.75 2041.46 1347.88 Q2037.11 1343.02 2037.11 1334.83 Q2037.11 1326.63 2041.46 1321.77 Q2045.84 1316.89 2053.13 1316.89 Z\" fill=\"#000000\" fill-rule=\"nonzero\" fill-opacity=\"1\" /><path clip-path=\"url(#clip350)\" d=\"M2102.29 1320.18 L2102.29 1325.11 Q2099.93 1322.91 2097.25 1321.82 Q2094.59 1320.73 2091.58 1320.73 Q2085.65 1320.73 2082.5 1324.37 Q2079.35 1327.98 2079.35 1334.83 Q2079.35 1341.66 2082.5 1345.29 Q2085.65 1348.9 2091.58 1348.9 Q2094.59 1348.9 2097.25 1347.82 Q2099.93 1346.73 2102.29 1344.53 L2102.29 1349.41 Q2099.84 1351.08 2097.09 1351.91 Q2094.35 1352.75 2091.3 1352.75 Q2083.45 1352.75 2078.94 1347.95 Q2074.42 1343.14 2074.42 1334.83 Q2074.42 1326.5 2078.94 1321.7 Q2083.45 1316.89 2091.3 1316.89 Q2094.4 1316.89 2097.13 1317.72 Q2099.89 1318.53 2102.29 1320.18 Z\" fill=\"#000000\" fill-rule=\"nonzero\" fill-opacity=\"1\" /><path clip-path=\"url(#clip350)\" d=\"M2118.43 1352.07 L2105.23 1317.51 L2110.12 1317.51 L2121.07 1346.61 L2132.04 1317.51 L2136.9 1317.51 L2123.73 1352.07 L2118.43 1352.07 Z\" fill=\"#000000\" fill-rule=\"nonzero\" fill-opacity=\"1\" /><path clip-path=\"url(#clip350)\" d=\"M2161.46 1359.94 L2161.46 1363.25 L2136.83 1363.25 L2136.83 1359.94 L2161.46 1359.94 Z\" fill=\"#000000\" fill-rule=\"nonzero\" fill-opacity=\"1\" /><path clip-path=\"url(#clip350)\" d=\"M2165.65 1317.51 L2170.33 1317.51 L2170.33 1348.14 L2187.15 1348.14 L2187.15 1352.07 L2165.65 1352.07 L2165.65 1317.51 Z\" fill=\"#000000\" fill-rule=\"nonzero\" fill-opacity=\"1\" /><path clip-path=\"url(#clip350)\" d=\"M2191.88 1326.15 L2196.14 1326.15 L2196.14 1352.07 L2191.88 1352.07 L2191.88 1326.15 M2191.88 1316.06 L2196.14 1316.06 L2196.14 1321.45 L2191.88 1321.45 L2191.88 1316.06 Z\" fill=\"#000000\" fill-rule=\"nonzero\" fill-opacity=\"1\" /><polyline clip-path=\"url(#clip350)\" style=\"stroke:#e26f46; stroke-linecap:round; stroke-linejoin:round; stroke-width:4; stroke-opacity:1; fill:none\" points=\"1866.32,1386.63 2012.71,1386.63 \"/>\n",
       "<path clip-path=\"url(#clip350)\" d=\"M2053.13 1372.53 Q2048.03 1372.53 2045.03 1376.32 Q2042.04 1380.12 2042.04 1386.67 Q2042.04 1393.2 2045.03 1396.99 Q2048.03 1400.79 2053.13 1400.79 Q2058.22 1400.79 2061.18 1396.99 Q2064.17 1393.2 2064.17 1386.67 Q2064.17 1380.12 2061.18 1376.32 Q2058.22 1372.53 2053.13 1372.53 M2053.13 1368.73 Q2060.4 1368.73 2064.75 1373.61 Q2069.1 1378.47 2069.1 1386.67 Q2069.1 1394.84 2064.75 1399.72 Q2060.4 1404.59 2053.13 1404.59 Q2045.84 1404.59 2041.46 1399.72 Q2037.11 1394.86 2037.11 1386.67 Q2037.11 1378.47 2041.46 1373.61 Q2045.84 1368.73 2053.13 1368.73 Z\" fill=\"#000000\" fill-rule=\"nonzero\" fill-opacity=\"1\" /><path clip-path=\"url(#clip350)\" d=\"M2102.29 1372.02 L2102.29 1376.95 Q2099.93 1374.75 2097.25 1373.66 Q2094.59 1372.57 2091.58 1372.57 Q2085.65 1372.57 2082.5 1376.21 Q2079.35 1379.82 2079.35 1386.67 Q2079.35 1393.5 2082.5 1397.13 Q2085.65 1400.74 2091.58 1400.74 Q2094.59 1400.74 2097.25 1399.66 Q2099.93 1398.57 2102.29 1396.37 L2102.29 1401.25 Q2099.84 1402.92 2097.09 1403.75 Q2094.35 1404.59 2091.3 1404.59 Q2083.45 1404.59 2078.94 1399.79 Q2074.42 1394.98 2074.42 1386.67 Q2074.42 1378.34 2078.94 1373.54 Q2083.45 1368.73 2091.3 1368.73 Q2094.4 1368.73 2097.13 1369.56 Q2099.89 1370.37 2102.29 1372.02 Z\" fill=\"#000000\" fill-rule=\"nonzero\" fill-opacity=\"1\" /><path clip-path=\"url(#clip350)\" d=\"M2118.43 1403.91 L2105.23 1369.35 L2110.12 1369.35 L2121.07 1398.45 L2132.04 1369.35 L2136.9 1369.35 L2123.73 1403.91 L2118.43 1403.91 Z\" fill=\"#000000\" fill-rule=\"nonzero\" fill-opacity=\"1\" /><path clip-path=\"url(#clip350)\" d=\"M2161.46 1411.78 L2161.46 1415.09 L2136.83 1415.09 L2136.83 1411.78 L2161.46 1411.78 Z\" fill=\"#000000\" fill-rule=\"nonzero\" fill-opacity=\"1\" /><path clip-path=\"url(#clip350)\" d=\"M2165.65 1369.35 L2170.33 1369.35 L2170.33 1399.98 L2187.15 1399.98 L2187.15 1403.91 L2165.65 1403.91 L2165.65 1369.35 Z\" fill=\"#000000\" fill-rule=\"nonzero\" fill-opacity=\"1\" /><path clip-path=\"url(#clip350)\" d=\"M2217.94 1372.02 L2217.94 1376.95 Q2215.58 1374.75 2212.9 1373.66 Q2210.23 1372.57 2207.22 1372.57 Q2201.3 1372.57 2198.15 1376.21 Q2195 1379.82 2195 1386.67 Q2195 1393.5 2198.15 1397.13 Q2201.3 1400.74 2207.22 1400.74 Q2210.23 1400.74 2212.9 1399.66 Q2215.58 1398.57 2217.94 1396.37 L2217.94 1401.25 Q2215.49 1402.92 2212.73 1403.75 Q2210 1404.59 2206.95 1404.59 Q2199.1 1404.59 2194.58 1399.79 Q2190.07 1394.98 2190.07 1386.67 Q2190.07 1378.34 2194.58 1373.54 Q2199.1 1368.73 2206.95 1368.73 Q2210.05 1368.73 2212.78 1369.56 Q2215.53 1370.37 2217.94 1372.02 Z\" fill=\"#000000\" fill-rule=\"nonzero\" fill-opacity=\"1\" /><path clip-path=\"url(#clip350)\" d=\"M2239.19 1372.53 Q2234.1 1372.53 2231.09 1376.32 Q2228.1 1380.12 2228.1 1386.67 Q2228.1 1393.2 2231.09 1396.99 Q2234.1 1400.79 2239.19 1400.79 Q2244.28 1400.79 2247.25 1396.99 Q2250.23 1393.2 2250.23 1386.67 Q2250.23 1380.12 2247.25 1376.32 Q2244.28 1372.53 2239.19 1372.53 M2239.19 1368.73 Q2246.46 1368.73 2250.81 1373.61 Q2255.16 1378.47 2255.16 1386.67 Q2255.16 1394.84 2250.81 1399.72 Q2246.46 1404.59 2239.19 1404.59 Q2231.9 1404.59 2227.52 1399.72 Q2223.17 1394.86 2223.17 1386.67 Q2223.17 1378.47 2227.52 1373.61 Q2231.9 1368.73 2239.19 1368.73 Z\" fill=\"#000000\" fill-rule=\"nonzero\" fill-opacity=\"1\" /></svg>\n"
      ]
     },
     "metadata": {},
     "output_type": "display_data"
    }
   ],
   "source": [
    "Ys = measurement_dynamics.([[i;i] for i in 0:0.01:1])\n",
    "Ys = reduce(hcat, Ys)\n",
    "plot(0:0.01:1, Ys[1,:], label=\"OCV_Li\")\n",
    "plot!(0:0.01:1, Ys[2,:], label=\"OCV_LCO\")"
   ]
  },
  {
   "cell_type": "markdown",
   "metadata": {},
   "source": [
    "### Define the extended Kalman Filter"
   ]
  },
  {
   "cell_type": "code",
   "execution_count": 5,
   "metadata": {},
   "outputs": [
    {
     "data": {
      "text/plain": [
       "ExtendedKalmanFilter(Main.state_dynamics, Main.measurement_dynamics, [0.1 0.0; 0.0 0.1], [0.1 0.0; 0.0 0.1])"
      ]
     },
     "metadata": {},
     "output_type": "display_data"
    }
   ],
   "source": [
    "eKF = ExtendedKalmanFilter(state_dynamics, measurement_dynamics, W, V)"
   ]
  },
  {
   "cell_type": "markdown",
   "metadata": {},
   "source": [
    "### Initialize the control sampling object"
   ]
  },
  {
   "cell_type": "code",
   "execution_count": 6,
   "metadata": {},
   "outputs": [
    {
     "data": {
      "text/plain": [
       "#20 (generic function with 1 method)"
      ]
     },
     "metadata": {},
     "output_type": "display_data"
    }
   ],
   "source": [
    "N = 8 # prediction horizon length\n",
    "Q = 1.0\n",
    "R = 0.1\n",
    "set_point = 0.7\n",
    "running_cost = (x, u) -> Q * (sum(x) - set_point)^2  + u' * R * u\n",
    "running_cost_stochastic = (x, cov, u) -> Q * (sum(x) - set_point)^2 + Q * tr(cov) + u' * R * u"
   ]
  },
  {
   "cell_type": "markdown",
   "metadata": {},
   "source": [
    "### Initialize the model predictive control solver and the simulation loop"
   ]
  },
  {
   "cell_type": "code",
   "execution_count": 7,
   "metadata": {},
   "outputs": [
    {
     "data": {
      "text/plain": [
       "simulate_mpc (generic function with 1 method)"
      ]
     },
     "metadata": {},
     "output_type": "display_data"
    }
   ],
   "source": [
    "include(\"./src/MPCs.jl\")\n",
    "include(\"./simulate.jl\")"
   ]
  },
  {
   "cell_type": "code",
   "execution_count": 8,
   "metadata": {},
   "outputs": [
    {
     "data": {
      "text/plain": [
       "constraint_function (generic function with 1 method)"
      ]
     },
     "metadata": {},
     "output_type": "display_data"
    }
   ],
   "source": [
    "function constraint_function(x, u)\n",
    "    u_max = 5.0\n",
    "    return [-x; x .- 1; u .- u_max; -u .- u_max]\n",
    "end"
   ]
  },
  {
   "cell_type": "code",
   "execution_count": 9,
   "metadata": {},
   "outputs": [
    {
     "data": {
      "text/plain": [
       "MPC_Prob(Main.information_state_dynamics, 2, 2, 8, var\"#20#21\"(), Main.constraint_function)"
      ]
     },
     "metadata": {},
     "output_type": "display_data"
    }
   ],
   "source": [
    "# Define the linear problem\n",
    "linear_problem = MPC_Prob(\n",
    "    state_dynamics,\n",
    "    2, # state dimension\n",
    "    2, # control dimension\n",
    "    N, # prediction horizon\n",
    "    running_cost,\n",
    "    constraint_function\n",
    ")\n",
    "\n",
    "# information state typically refers to the density or anything that represents the state\n",
    "# and its uncertainty\n",
    "function information_state_dynamics(x₀₀, Σ₀₀, u₀)\n",
    "    x₁₁, Σ₁₁ = update_predict(x₀₀, Σ₀₀, u₀, eKF)\n",
    "    #x₁₁, Σ₁₁ = x₀₀, Σ₀₀\n",
    "    return x₁₁, Σ₁₁\n",
    "end\n",
    "\n",
    "nonlinear_problem = MPC_Prob(\n",
    "    information_state_dynamics,\n",
    "    2, # state dimension\n",
    "    2, # control dimension\n",
    "    N, # prediction horizon\n",
    "    running_cost_stochastic,\n",
    "    constraint_function\n",
    ")"
   ]
  },
  {
   "cell_type": "code",
   "execution_count": 10,
   "metadata": {},
   "outputs": [
    {
     "name": "stdout",
     "output_type": "stream",
     "text": [
      "Simulation: 1\n",
      "\n",
      "******************************************************************************\n",
      "This program contains Ipopt, a library for large-scale nonlinear optimization.\n",
      " Ipopt is released as open source code under the Eclipse Public License (EPL).\n",
      "         For more information visit https://github.com/coin-or/Ipopt\n",
      "******************************************************************************\n",
      "\n"
     ]
    },
    {
     "ename": "MethodError",
     "evalue": "MethodError: Cannot `convert` an object of type AffExpr to an object of type VariableRef\nThe function `convert` exists, but no method is defined for this combination of argument types.\n\nClosest candidates are:\n  (::Type{GenericVariableRef{T}} where T)(::Any, !Matched::Any)\n   @ JuMP ~/.julia/packages/JuMP/RGIK3/src/variables.jl:256\n  convert(::Type{T}, !Matched::T) where T\n   @ Base Base.jl:126\n",
     "output_type": "error",
     "traceback": [
      "MethodError: Cannot `convert` an object of type AffExpr to an object of type VariableRef\n",
      "The function `convert` exists, but no method is defined for this combination of argument types.\n",
      "\n",
      "Closest candidates are:\n",
      "  (::Type{GenericVariableRef{T}} where T)(::Any, !Matched::Any)\n",
      "   @ JuMP ~/.julia/packages/JuMP/RGIK3/src/variables.jl:256\n",
      "  convert(::Type{T}, !Matched::T) where T\n",
      "   @ Base Base.jl:126\n",
      "\n",
      "\n",
      "Stacktrace:\n",
      "  [1] cvt1\n",
      "    @ ./essentials.jl:612 [inlined]\n",
      "  [2] ntuple\n",
      "    @ ./ntuple.jl:49 [inlined]\n",
      "  [3] convert(::Type{Tuple{VariableRef, VariableRef}}, x::Tuple{AffExpr, AffExpr})\n",
      "    @ Base ./essentials.jl:614\n",
      "  [4] ForwardDiff.Partials{2, VariableRef}(values::Tuple{AffExpr, AffExpr})\n",
      "    @ ForwardDiff ~/.julia/packages/ForwardDiff/UBbGT/src/partials.jl:2\n",
      "  [5] convert(::Type{ForwardDiff.Partials{2, VariableRef}}, partials::ForwardDiff.Partials{2, AffExpr})\n",
      "    @ ForwardDiff ~/.julia/packages/ForwardDiff/UBbGT/src/partials.jl:73\n",
      "  [6] cvt1\n",
      "    @ ./essentials.jl:612 [inlined]\n",
      "  [7] ntuple\n",
      "    @ ./ntuple.jl:49 [inlined]\n",
      "  [8] convert(::Type{Tuple{ForwardDiff.Partials{2, VariableRef}, ForwardDiff.Partials{2, VariableRef}}}, x::Tuple{ForwardDiff.Partials{2, AffExpr}, ForwardDiff.Partials{2, AffExpr}})\n",
      "    @ Base ./essentials.jl:614\n",
      "  [9] ForwardDiff.JacobianConfig{ForwardDiff.Tag{var\"#11#12\"{Vector{VariableRef}, ExtendedKalmanFilter}, VariableRef}, VariableRef, 2, Vector{ForwardDiff.Dual{ForwardDiff.Tag{var\"#11#12\"{Vector{VariableRef}, ExtendedKalmanFilter}, VariableRef}, VariableRef, 2}}}(seeds::Tuple{ForwardDiff.Partials{2, AffExpr}, ForwardDiff.Partials{2, AffExpr}}, duals::Vector{ForwardDiff.Dual{ForwardDiff.Tag{var\"#11#12\"{Vector{VariableRef}, ExtendedKalmanFilter}, VariableRef}, VariableRef, 2}})\n",
      "    @ ForwardDiff ~/.julia/packages/ForwardDiff/UBbGT/src/config.jl:134\n",
      " [10] ForwardDiff.JacobianConfig(f::var\"#11#12\"{Vector{VariableRef}, ExtendedKalmanFilter}, x::Vector{VariableRef}, ::ForwardDiff.Chunk{2}, ::ForwardDiff.Tag{var\"#11#12\"{Vector{VariableRef}, ExtendedKalmanFilter}, VariableRef})\n",
      "    @ ForwardDiff ~/.julia/packages/ForwardDiff/UBbGT/src/config.jl:160\n",
      " [11] ForwardDiff.JacobianConfig(f::var\"#11#12\"{Vector{VariableRef}, ExtendedKalmanFilter}, x::Vector{VariableRef}, ::ForwardDiff.Chunk{2})\n",
      "    @ ForwardDiff ~/.julia/packages/ForwardDiff/UBbGT/src/config.jl:158\n",
      " [12] ForwardDiff.JacobianConfig(f::var\"#11#12\"{Vector{VariableRef}, ExtendedKalmanFilter}, x::Vector{VariableRef})\n",
      "    @ ForwardDiff ~/.julia/packages/ForwardDiff/UBbGT/src/config.jl:158\n",
      " [13] jacobian(f::var\"#11#12\"{Vector{VariableRef}, ExtendedKalmanFilter}, x::Vector{VariableRef})\n",
      "    @ ForwardDiff ~/.julia/packages/ForwardDiff/UBbGT/src/jacobian.jl:19\n",
      " [14] ∇f\n",
      "    @ ~/Library/Mobile Documents/com~apple~CloudDocs/Documents/GitHub/battery-dual-control/src/eKF.jl:21 [inlined]\n",
      " [15] time_update_predict(x₀₀::Vector{VariableRef}, Σ₀₀::Matrix{VariableRef}, u₀::Vector{VariableRef}, eKF::ExtendedKalmanFilter)\n",
      "    @ Main ~/Library/Mobile Documents/com~apple~CloudDocs/Documents/GitHub/battery-dual-control/src/eKF.jl:60\n",
      " [16] update_predict(x₀₀::Vector{VariableRef}, Σ₀₀::Matrix{VariableRef}, u₀::Vector{VariableRef}, eKF::ExtendedKalmanFilter)\n",
      "    @ Main ~/Library/Mobile Documents/com~apple~CloudDocs/Documents/GitHub/battery-dual-control/src/eKF.jl:74\n",
      " [17] information_state_dynamics(x₀₀::Vector{VariableRef}, Σ₀₀::Matrix{VariableRef}, u₀::Vector{VariableRef})\n",
      "    @ Main ~/Library/Mobile Documents/com~apple~CloudDocs/Documents/GitHub/battery-dual-control/jl_notebook_cell_df34fa98e69747e1a8f8a730347b8e2f_X16sZmlsZQ==.jl:14\n",
      " [18] macro expansion\n",
      "    @ ~/.julia/packages/MutableArithmetics/tNSBd/src/rewrite.jl:371 [inlined]\n",
      " [19] macro expansion\n",
      "    @ ~/.julia/packages/JuMP/RGIK3/src/macros.jl:264 [inlined]\n",
      " [20] macro expansion\n",
      "    @ ~/.julia/packages/JuMP/RGIK3/src/macros/@constraint.jl:159 [inlined]\n",
      " [21] (::var\"#33#39\"{Matrix{VariableRef}, Array{VariableRef, 3}, Matrix{VariableRef}, typeof(information_state_dynamics), Model})(t::Int64)\n",
      "    @ Main ~/.julia/packages/JuMP/RGIK3/src/Containers/macro.jl:550\n",
      " [22] #84\n",
      "    @ ~/.julia/packages/JuMP/RGIK3/src/Containers/container.jl:85 [inlined]\n",
      " [23] iterate\n",
      "    @ ./generator.jl:48 [inlined]\n",
      " [24] collect(itr::Base.Generator{JuMP.Containers.VectorizedProductIterator{Tuple{Base.OneTo{Int64}}}, JuMP.Containers.var\"#84#85\"{var\"#33#39\"{Matrix{VariableRef}, Array{VariableRef, 3}, Matrix{VariableRef}, typeof(information_state_dynamics), Model}}})\n",
      "    @ Base ./array.jl:780\n",
      " [25] map(f::Function, A::JuMP.Containers.VectorizedProductIterator{Tuple{Base.OneTo{Int64}}})\n",
      "    @ Base ./abstractarray.jl:3399\n",
      " [26] container\n",
      "    @ ~/.julia/packages/JuMP/RGIK3/src/Containers/container.jl:85 [inlined]\n",
      " [27] container\n",
      "    @ ~/.julia/packages/JuMP/RGIK3/src/Containers/container.jl:71 [inlined]\n",
      " [28] container\n",
      "    @ ~/.julia/packages/JuMP/RGIK3/src/Containers/container.jl:75 [inlined]\n",
      " [29] macro expansion\n",
      "    @ ~/.julia/packages/JuMP/RGIK3/src/macros.jl:400 [inlined]\n",
      " [30] nonlinear_mpc(initial_state::Tuple{Vector{Float64}, Matrix{Float64}}, prob::MPC_Prob, initial_u_guess::Matrix{Float64})\n",
      "    @ Main ~/Library/Mobile Documents/com~apple~CloudDocs/Documents/GitHub/battery-dual-control/src/MPCs.jl:64\n",
      " [31] trajectory_pick(prob::MPC_Prob, u_trajectories::Vector{Matrix{Float64}}, x₀₀::Vector{Float64}, Σ₀₀::Matrix{Float64})\n",
      "    @ Main ~/Library/Mobile Documents/com~apple~CloudDocs/Documents/GitHub/battery-dual-control/simulate.jl:45\n",
      " [32] simulate_nonlinear_MPC(nonlinear_problem::MPC_Prob, linear_problem::MPC_Prob, x₀₀::Vector{Float64}, Σ₀₀::Matrix{Float64}, T::Int64, L::Int64; u_noise_cov::Float64)\n",
      "    @ Main ~/Library/Mobile Documents/com~apple~CloudDocs/Documents/GitHub/battery-dual-control/simulate.jl:25\n",
      " [33] simulation_run()\n",
      "    @ Main ~/Library/Mobile Documents/com~apple~CloudDocs/Documents/GitHub/battery-dual-control/jl_notebook_cell_df34fa98e69747e1a8f8a730347b8e2f_X20sZmlsZQ==.jl:9\n",
      " [34] top-level scope\n",
      "    @ ~/Library/Mobile Documents/com~apple~CloudDocs/Documents/GitHub/battery-dual-control/jl_notebook_cell_df34fa98e69747e1a8f8a730347b8e2f_X20sZmlsZQ==.jl:22"
     ]
    }
   ],
   "source": [
    "x₀₀ = [0.2; 0.2]\n",
    "Σ₀₀ = 0.1 * Matrix{Float64}(I, 2, 2)\n",
    "L = 10\n",
    "num_simulations = 2\n",
    "cost_rec = zeros(num_simulations)\n",
    "est_err_rec = zeros(num_simulations)\n",
    "T = 50\n",
    "function simulation_run()\n",
    "    X_rec, U_rec, _, X_true_rec = simulate_nonlinear_MPC(nonlinear_problem, linear_problem,\n",
    "                                                        x₀₀, Σ₀₀, T, L; u_noise_cov = 0.01)\n",
    "    achieved_cost = sum([running_cost(X_true_rec[k], U_rec[k]) for k in 1:T]) / T\n",
    "    achieved_est_err = sum([norm(X_rec[k] - X_true_rec[k]) for k in 1:T]) / T\n",
    "    return achieved_cost, achieved_est_err\n",
    "end\n",
    "for i in 1:num_simulations\n",
    "    println(\"Simulation: \", i)\n",
    "    if i==num_simulations\n",
    "        @time begin\n",
    "        achieved_cost, achieved_est_err = simulation_run()\n",
    "        end\n",
    "    else\n",
    "        achieved_cost, achieved_est_err = simulation_run()\n",
    "    end\n",
    "    cost_rec[i] = achieved_cost\n",
    "    est_err_rec[i] = achieved_est_err\n",
    "end\n",
    "println(\"Average Achieved Cost: \", sum(cost_rec) / num_simulations)\n",
    "println(\"Average Achieved Estimation Error: \", sum(est_err_rec) / num_simulations)"
   ]
  },
  {
   "cell_type": "code",
   "execution_count": 11,
   "metadata": {},
   "outputs": [
    {
     "name": "stdout",
     "output_type": "stream",
     "text": [
      "Average Achieved Cost: 0.2910892363381953\n",
      "Average Achieved Estimation Error: 0.46892763586509045\n"
     ]
    }
   ],
   "source": [
    "cost_rec_mpc = zeros(num_simulations)\n",
    "est_err_rec_mpc = zeros(num_simulations)\n",
    "function simulate_run_mpc()\n",
    "    X_rec_mpc, U_rec_mpc, _, X_true_rec_mpc = simulate_mpc(linear_problem, x₀₀, Σ₀₀, T)\n",
    "    achieved_cost = sum([running_cost(X_true_rec_mpc[k], U_rec_mpc[k]) for k in 1:T]) / T\n",
    "    achieved_est_err = sum([norm(X_rec_mpc[k] - X_true_rec_mpc[k]) for k in 1:T]) / T\n",
    "    return achieved_cost, achieved_est_err \n",
    "end\n",
    "for i in 1:num_simulations\n",
    "    achieved_cost, achieved_est_err = simulate_run_mpc()\n",
    "    cost_rec_mpc[i] = achieved_cost\n",
    "    est_err_rec_mpc[i] = achieved_est_err\n",
    "end\n",
    "println(\"Average Achieved Cost: \", sum(cost_rec_mpc) / num_simulations)\n",
    "println(\"Average Achieved Estimation Error: \", sum(est_err_rec_mpc) / num_simulations)"
   ]
  },
  {
   "cell_type": "markdown",
   "metadata": {},
   "source": [
    "### Calculating changes/improvements (-ve is good)"
   ]
  },
  {
   "cell_type": "code",
   "execution_count": 12,
   "metadata": {},
   "outputs": [
    {
     "name": "stdout",
     "output_type": "stream",
     "text": [
      "Average Achieved Cost Change: % -100.0\n",
      "Average Achieved Estimation Error Change: % -100.0\n"
     ]
    }
   ],
   "source": [
    "println(\"Average Achieved Cost Change: % \", (sum(cost_rec)-sum(cost_rec_mpc)) / sum(cost_rec_mpc) * 100)\n",
    "println(\"Average Achieved Estimation Error Change: % \", (sum(est_err_rec) - sum(est_err_rec_mpc)) / sum(est_err_rec_mpc) * 100)"
   ]
  }
 ],
 "metadata": {
  "kernelspec": {
   "display_name": "Julia 1.11.1",
   "language": "julia",
   "name": "julia-1.11"
  },
  "language_info": {
   "file_extension": ".jl",
   "mimetype": "application/julia",
   "name": "julia",
   "version": "1.11.1"
  }
 },
 "nbformat": 4,
 "nbformat_minor": 2
}
